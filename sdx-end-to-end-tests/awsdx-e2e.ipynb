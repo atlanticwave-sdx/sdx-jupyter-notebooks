{
 "cells": [
  {
   "cell_type": "markdown",
   "metadata": {
    "editable": true,
    "slideshow": {
     "slide_type": ""
    },
    "tags": []
   },
   "source": [
    "\n",
    "# AWSDX -> sdx-end-to-end-tests  \n",
    "#### (derived from) Functional Test 3.2.1 - Local bridge with Shared NICs\n",
    "\n",
    "This Jupyter notebook will allow you to create VMs on different sites and worker nodes consistent with requirements for test 3.2.1 for testing Shared NIC with a local bridge.\n",
    "\n",
    "## Step 1:  Configure the Environment\n",
    "\n",
    "Before running this notebook, you will need to configure your environment using the [Configure Environment](../../fablib_api/configure_environment/configure_environment.ipynb) notebook. Please stop here, open and run that notebook, then return to this notebook.\n",
    "\n",
    "**This only needs to be done once.**"
   ]
  },
  {
   "cell_type": "markdown",
   "metadata": {},
   "source": [
    "## Step 2: Import the FABlib Library\n"
   ]
  },
  {
   "cell_type": "code",
   "execution_count": null,
   "metadata": {},
   "outputs": [],
   "source": [
    "from fabrictestbed_extensions.fablib.fablib import FablibManager as fablib_manager\n",
    "\n",
    "fablib = fablib_manager()\n",
    "                     \n",
    "fablib.show_config()"
   ]
  },
  {
   "cell_type": "markdown",
   "metadata": {},
   "source": [
    "## Step 3: Check your existing slices\n",
    "\n",
    "Since testing can get confusing, check what slices you actually have. It may print nothing if you have no active slices."
   ]
  },
  {
   "cell_type": "code",
   "execution_count": null,
   "metadata": {
    "tags": []
   },
   "outputs": [],
   "source": [
    "try:\n",
    "    for slice in fablib.get_slices():\n",
    "        print(f\"{slice}\")\n",
    "except Exception as e:\n",
    "    print(f\"Exception: {e}\")"
   ]
  },
  {
   "cell_type": "markdown",
   "metadata": {
    "tags": []
   },
   "source": [
    "## Step 4: Create the Slice\n",
    "\n",
    "The following creates two nodes with a shared NIC each. This should be run all worker nodes regardless of type.\n",
    "\n",
    "Two nodes with one NIC component each are created on different workers.  This example uses components of model `NIC_Basic` which are SR-IOV Virtual Function on a 100 Gpbs Mellanox ConnectX-6 PCI device. The VF is accessed by the node via PCI passthrough. \n",
    "\n",
    "**Be sure to try different combinations of workers**"
   ]
  },
  {
   "cell_type": "code",
   "execution_count": null,
   "metadata": {
    "tags": []
   },
   "outputs": [],
   "source": [
    "from datetime import datetime\n",
    "from dateutil import tz\n",
    "\n",
    "name1='Node1'\n",
    "nic1_name='SharedNIC1'\n",
    "\n",
    "name2='Node2'\n",
    "nic2_name='SharedNIC2'\n",
    "\n",
    "network_name='l2-bridge'\n",
    "\n",
    "site='FIU'\n",
    "\n",
    "# since all workers have a standard naming scheme, you can just change the worker\n",
    "# to move from worker to worker\n",
    "#worker1=f'{site.lower()}-w1.fabric-testbed.net'\n",
    "#worker2=f'{site.lower()}-w2.fabric-testbed.net'\n",
    "\n",
    "cores=10\n",
    "ram=20\n",
    "disk=50\n",
    "\n",
    "slice_name=f\"AWSDX end-to-end-tests {site} {datetime.now().strftime('%Y-%m-%d-%H-%M')}\""
   ]
  },
  {
   "cell_type": "markdown",
   "metadata": {},
   "source": [
    "### List of the VM images\n",
    "\n",
    "Available images on FABRIC Testbed\n",
    "\n",
    "```\n",
    "+------------------------------+\n",
    "| Name                         |\n",
    "+------------------------------+\n",
    "| default_debian_11            |\n",
    "| default_debian_12            |\n",
    "| default_rocky_8              |\n",
    "| default_rocky_9              |\n",
    "| default_ubuntu_20            |\n",
    "| default_ubuntu_22            |\n",
    "| default_ubuntu_24            |\n",
    "| docker_rocky_8               |\n",
    "| docker_rocky_9               |\n",
    "| docker_ubuntu_20             |\n",
    "| docker_ubuntu_22             |\n",
    "| docker_ubuntu_24             |\n",
    "+------------------------------+\n",
    "```"
   ]
  },
  {
   "cell_type": "code",
   "execution_count": null,
   "metadata": {
    "editable": true,
    "scrolled": true,
    "slideshow": {
     "slide_type": ""
    },
    "tags": []
   },
   "outputs": [],
   "source": [
    "try:\n",
    "    #Create Slice\n",
    "    print(f'Creating slice {slice_name}')\n",
    "    slice = fablib.new_slice(name=slice_name)\n",
    "\n",
    "    # Node1\n",
    "    node1 = slice.add_node(name=name1, site=site, cores=cores, ram=ram, disk=disk, image=\"docker_rocky_8\")\n",
    "    iface1 = node1.add_component(model='NIC_Basic', name=nic1_name).get_interfaces()[0]\n",
    "    \n",
    "    node2 = slice.add_node(name=name2, site=site, cores=cores, ram=ram, disk=disk, image=\"default_debian_12\")\n",
    "    iface2 = node2.add_component(model='NIC_Basic', name=nic2_name).get_interfaces()[0]\n",
    "    \n",
    "    # Network\n",
    "    net1 = slice.add_l2network(name=network_name, interfaces=[iface1, iface2])\n",
    " \n",
    "    #Submit Slice Request\n",
    "    slice.submit()\n",
    "except Exception as e:\n",
    "    print(f\"Exception: {e}\")"
   ]
  },
  {
   "cell_type": "markdown",
   "metadata": {
    "tags": []
   },
   "source": [
    "## Step 5: Observe the Slice's Attributes\n",
    "\n",
    "### Print the slice "
   ]
  },
  {
   "cell_type": "code",
   "execution_count": null,
   "metadata": {
    "tags": []
   },
   "outputs": [],
   "source": [
    "try:\n",
    "    slice = fablib.get_slice(name=slice_name)\n",
    "    print(f\"{slice}\")\n",
    "except Exception as e:\n",
    "    print(f\"Exception: {e}\")"
   ]
  },
  {
   "cell_type": "markdown",
   "metadata": {
    "tags": []
   },
   "source": [
    "## Print the Node List"
   ]
  },
  {
   "cell_type": "code",
   "execution_count": null,
   "metadata": {
    "editable": true,
    "slideshow": {
     "slide_type": ""
    },
    "tags": []
   },
   "outputs": [],
   "source": [
    "try:\n",
    "    slice = fablib.get_slice(name=slice_name)\n",
    "\n",
    "    print(f\"{slice.list_nodes()}\")\n",
    "except Exception as e:\n",
    "    print(f\"Exception: {e}\")"
   ]
  },
  {
   "cell_type": "markdown",
   "metadata": {},
   "source": [
    "## Print the Node Details"
   ]
  },
  {
   "cell_type": "code",
   "execution_count": null,
   "metadata": {},
   "outputs": [],
   "source": [
    "try:\n",
    "    slice = fablib.get_slice(name=slice_name)\n",
    "    for node in slice.get_nodes():\n",
    "        print(f\"{node}\")\n",
    "except Exception as e:\n",
    "    print(f\"Exception: {e}\")"
   ]
  },
  {
   "cell_type": "markdown",
   "metadata": {},
   "source": [
    "## Print the Interfaces"
   ]
  },
  {
   "cell_type": "markdown",
   "metadata": {},
   "source": [
    "You should see 2 interfaces."
   ]
  },
  {
   "cell_type": "code",
   "execution_count": null,
   "metadata": {},
   "outputs": [],
   "source": [
    "try:\n",
    "    slice = fablib.get_slice(name=slice_name)\n",
    "    \n",
    "    print(f\"{slice.list_interfaces()}\")\n",
    "except Exception as e:\n",
    "    print(f\"Exception: {e}\")"
   ]
  },
  {
   "cell_type": "markdown",
   "metadata": {
    "tags": []
   },
   "source": [
    "## Step 6: Configure interfaces, test reachability"
   ]
  },
  {
   "cell_type": "markdown",
   "metadata": {},
   "source": [
    "##  Configure IP Addresses\n",
    "\n",
    "### Pick a Subnet\n",
    "\n",
    "Create a subnet and list of available IP addresses. You can use either IPv4 or IPv6 subnets and addresses."
   ]
  },
  {
   "cell_type": "code",
   "execution_count": null,
   "metadata": {},
   "outputs": [],
   "source": [
    "from ipaddress import ip_address, IPv4Address, IPv6Address, IPv4Network, IPv6Network\n",
    "\n",
    "try:\n",
    "    subnet = IPv4Network(\"192.168.1.0/24\")\n",
    "    available_ips = list(subnet)[1:]\n",
    "except Exception as e:\n",
    "    print(f\"Exception: {e}\")"
   ]
  },
  {
   "cell_type": "markdown",
   "metadata": {},
   "source": [
    "### Configure Node1\n",
    "\n",
    "Get the node and the interface you wish to configure.  You can use `node.get_interface` to get the interface that is connected to the specified network.  Then `pop` an IP address from the list of available IPs and call `iface.ip_addr_add` to set the IP and subnet.  \n",
    "\n",
    "Optionally, use the `node.execute()` method to show the results of adding the IP address."
   ]
  },
  {
   "cell_type": "code",
   "execution_count": null,
   "metadata": {},
   "outputs": [],
   "source": [
    "try:\n",
    "    node1 = slice.get_node(name=name1)        \n",
    "    node1_iface = node1.get_interface(network_name=network_name) \n",
    "    node1_addr = available_ips.pop(0)\n",
    "    node1_iface.ip_addr_add(addr=node1_addr, subnet=subnet)\n",
    "    \n",
    "    stdout, stderr = node1.execute(f'ip addr show {node1_iface.get_os_interface()}')\n",
    "    print (stdout)\n",
    "    \n",
    "except Exception as e:\n",
    "    print(f\"Exception: {e}\")"
   ]
  },
  {
   "cell_type": "markdown",
   "metadata": {},
   "source": [
    "### Configure Node2\n",
    "\n",
    "Repeat the steps to add the next available IP to the second node."
   ]
  },
  {
   "cell_type": "code",
   "execution_count": null,
   "metadata": {},
   "outputs": [],
   "source": [
    "try:\n",
    "    node2 = slice.get_node(name=name2)        \n",
    "    node2_iface = node2.get_interface(network_name=network_name)  \n",
    "    node2_addr = available_ips.pop(0)\n",
    "    node2_iface.ip_addr_add(addr=node2_addr, subnet=subnet)\n",
    "    \n",
    "    stdout, stderr = node2.execute(f'ip addr show {node2_iface.get_os_interface()}')\n",
    "    print (stdout)\n",
    "    \n",
    "except Exception as e:\n",
    "    print(f\"Exception: {e}\")"
   ]
  },
  {
   "cell_type": "markdown",
   "metadata": {},
   "source": [
    "### Test reachability\n",
    "\n",
    "Test ping between interfaces, observe successful output.\n"
   ]
  },
  {
   "cell_type": "code",
   "execution_count": null,
   "metadata": {},
   "outputs": [],
   "source": [
    "try:\n",
    "    node1 = slice.get_node(name=name1)        \n",
    "\n",
    "    stdout, stderr = node1.execute(f'ping -c 5 {node2_addr}')\n",
    "    print (stdout)\n",
    "    print (stderr)\n",
    "    \n",
    "except Exception as e:\n",
    "    print(f\"Exception: {e}\")"
   ]
  },
  {
   "cell_type": "markdown",
   "metadata": {},
   "source": [
    "## Step 7: Execute sdx-end-to-end-tests\n",
    "\n",
    "- https://github.com/atlanticwave-sdx/sdx-end-to-end-tests.git\n",
    "- https://github.com/atlanticwave-sdx/sdx-deployment/issues/102\n",
    "- https://github.com/atlanticwave-sdx/sdx-deployment/issues/106"
   ]
  },
  {
   "cell_type": "markdown",
   "metadata": {},
   "source": [
    "### Select the node \n",
    "\n",
    "- node1 : created with the docker_rocky_8 image that already has docker installed. No further action needed for docker installation\n",
    "- node2 : created with the default_debian_12 image.  Install docker -> https://docs.docker.com/engine/install/debian/\n"
   ]
  },
  {
   "cell_type": "code",
   "execution_count": null,
   "metadata": {
    "editable": true,
    "scrolled": true,
    "slideshow": {
     "slide_type": ""
    },
    "tags": []
   },
   "outputs": [],
   "source": [
    "node = node1\n",
    "#node = node2\n",
    "\n",
    "if node == node1:\n",
    "    print(f'--- Use Node: {node}')\n",
    "    commands = list()\n",
    "    commands.append(f'sudo dnf install -y jq')\n",
    "\n",
    "elif node == node2: \n",
    "    print(f'--- Use Node: {node}')\n",
    "    commands = list()\n",
    "    commands.append(f'sudo apt-get update')\n",
    "    commands.append(f'sudo apt-get -y install ca-certificates curl')\n",
    "    commands.append(f'sudo install -m 0755 -d /etc/apt/keyrings')\n",
    "    commands.append(f'sudo curl -fsSL https://download.docker.com/linux/debian/gpg -o /etc/apt/keyrings/docker.asc')\n",
    "    commands.append(f'sudo chmod a+r /etc/apt/keyrings/docker.asc')\n",
    "    commands.append(f'echo \"deb [arch=$(dpkg --print-architecture) signed-by=/etc/apt/keyrings/docker.asc] https://download.docker.com/linux/debian $(. /etc/os-release && echo \"$VERSION_CODENAME\") stable\" | sudo tee /etc/apt/sources.list.d/docker.list > /dev/null')\n",
    "    commands.append(f'sudo apt-get update')\n",
    "    commands.append(f'sudo apt-get -y install docker-ce docker-ce-cli containerd.io docker-buildx-plugin docker-compose-plugin')\n",
    "    commands.append(f'sudo groupadd docker')\n",
    "    commands.append(f'sudo usermod -aG docker $USER')\n",
    "    commands.append(f'sudo apt-get install -y jq')\n",
    "\n",
    "\n",
    "for command in commands:\n",
    "    print(f'Executing {command}')\n",
    "    stdout, stderr = node.execute(command)\n",
    "    \n",
    "print('Done')"
   ]
  },
  {
   "cell_type": "markdown",
   "metadata": {},
   "source": [
    "#### Check Management IP address (IPv4, IPv6)"
   ]
  },
  {
   "cell_type": "code",
   "execution_count": null,
   "metadata": {
    "editable": true,
    "slideshow": {
     "slide_type": ""
    },
    "tags": []
   },
   "outputs": [],
   "source": [
    "import ipaddress\n",
    "\n",
    "def check_ip_version(ip_address):\n",
    "    try:\n",
    "        ip_object = ipaddress.ip_address(ip_address)\n",
    "        if isinstance(ip_object, ipaddress.IPv4Address):\n",
    "            return \"IPv4\"\n",
    "        elif isinstance(ip_object, ipaddress.IPv6Address):\n",
    "            return \"IPv6\"\n",
    "    except ValueError:\n",
    "        return \"Invalid IP address\"\n"
   ]
  },
  {
   "cell_type": "markdown",
   "metadata": {
    "editable": true,
    "slideshow": {
     "slide_type": ""
    },
    "tags": []
   },
   "source": [
    "### 1. Setup"
   ]
  },
  {
   "cell_type": "markdown",
   "metadata": {
    "editable": true,
    "slideshow": {
     "slide_type": ""
    },
    "tags": []
   },
   "source": [
    "<div class=\"alert alert-block alert-info\">\n",
    "<b>Testing - Declarations > </b> sdx-end-to-end-tests\n",
    "</div>"
   ]
  },
  {
   "cell_type": "code",
   "execution_count": null,
   "metadata": {
    "editable": true,
    "slideshow": {
     "slide_type": ""
    },
    "tags": []
   },
   "outputs": [],
   "source": [
    "\n",
    "sdx_end_to_end_tests_repo = 'https://github.com/atlanticwave-sdx/sdx-end-to-end-tests.git'\n",
    "sdx_end_to_end_tests_branch = 'main'\n",
    "repo_dir = 'awsdx/sdx-end-to-end-tests'\n"
   ]
  },
  {
   "cell_type": "markdown",
   "metadata": {
    "editable": true,
    "slideshow": {
     "slide_type": ""
    },
    "tags": []
   },
   "source": [
    "### 2. Checkout"
   ]
  },
  {
   "cell_type": "code",
   "execution_count": null,
   "metadata": {
    "editable": true,
    "slideshow": {
     "slide_type": ""
    },
    "tags": []
   },
   "outputs": [],
   "source": [
    "\n",
    "commands1 = list()\n",
    "commands1.append(f'[ ! -d ~/{repo_dir} ] && mkdir -p ~/{repo_dir}')\n",
    "commands1.append(f'cd ~/{repo_dir} && git init && git remote add origin {sdx_end_to_end_tests_repo}')\n",
    "commands1.append(f'cd ~/{repo_dir} && git fetch origin')\n",
    "commands1.append(f'cd ~/{repo_dir} && git checkout {sdx_end_to_end_tests_branch}')\n",
    "\n",
    "# Testing - customize for IPv6\n",
    "\n",
    "# Add the following block to the docker-compose.yml\n",
    "# Ref: https://docs.docker.com/reference/compose-file/networks/#the-default-network\n",
    "#\n",
    "#networks:\n",
    "#   default:\n",
    "#     name: sdxnet\n",
    "#     enable_ipv6: true\n",
    "#     ipam:\n",
    "#       config:\n",
    "#         - subnet: 2001:db8::/64\n",
    "\n",
    "management_ip = node.get_management_ip()\n",
    "\n",
    "if check_ip_version(management_ip) == 'IPv6':\n",
    "    commands1.append(f'cd ~/{repo_dir} && echo -e \"networks:\\n  default:\\n    name: sdxnet\\n    enable_ipv6: true\\n    ipam:\\n      config:\\n        - subnet: 2001:db8::/64\" | tee -a docker-compose.yml > /dev/null')\n",
    "\n",
    "\n",
    "for command in commands1:\n",
    "    print(f'Executing {command}')\n",
    "    stdout, stderr = node.execute(command)\n",
    "    \n",
    "print('Done')\n"
   ]
  },
  {
   "cell_type": "markdown",
   "metadata": {
    "editable": true,
    "slideshow": {
     "slide_type": ""
    },
    "tags": []
   },
   "source": [
    "### 3. Start Tests"
   ]
  },
  {
   "cell_type": "code",
   "execution_count": null,
   "metadata": {
    "editable": true,
    "scrolled": true,
    "slideshow": {
     "slide_type": ""
    },
    "tags": []
   },
   "outputs": [],
   "source": [
    "\n",
    "# Testing - start \n",
    "\n",
    "commands2 = list()\n",
    "commands2.append(f'sudo systemctl start docker')\n",
    "commands2.append(f'cd ~/{repo_dir} && docker compose up -d &> /tmp/docker-compose.log')\n",
    "commands2.append(f'cd ~/{repo_dir} && docker compose ps -a')\n",
    "\n",
    "# Testing - execute\n",
    "\n",
    "commands3 = list()\n",
    "commands3.append(f'cd ~/{repo_dir} && ./wait-mininet-ready.sh')\n",
    "commands3.append(f'cd ~/{repo_dir} && docker compose exec -it mininet python3 -m pytest tests/ | tee /tmp/docker-compose-exec-pytest.out')\n",
    "commands3.append(f'cd ~/{repo_dir} && docker compose logs sdx-controller -t > /tmp/docker-compose-logs-sdx-controller.out')\n",
    "\n",
    "\n",
    "for command in commands2 + commands3:\n",
    "    print(f'Executing {command}')\n",
    "    stdout, stderr = node.execute(command)\n",
    "    \n",
    "print('Done')"
   ]
  },
  {
   "cell_type": "code",
   "execution_count": null,
   "metadata": {
    "editable": true,
    "slideshow": {
     "slide_type": ""
    },
    "tags": []
   },
   "outputs": [],
   "source": [
    "# Download\n",
    "\n",
    "local_directory_path = 'docker-compose-logs-sdx-controller.out'\n",
    "remote_directory_path = '/tmp/docker-compose-logs-sdx-controller.out'\n",
    "\n",
    "node.download_file(local_directory_path,remote_directory_path)\n",
    "\n",
    "print('Done')"
   ]
  },
  {
   "cell_type": "markdown",
   "metadata": {
    "editable": true,
    "slideshow": {
     "slide_type": ""
    },
    "tags": []
   },
   "source": [
    "### Verify docker image\n",
    "\n",
    "Following steps are supplemental to verify the pulled docker image version wrt the github repo HEAD commit"
   ]
  },
  {
   "cell_type": "code",
   "execution_count": null,
   "metadata": {},
   "outputs": [],
   "source": [
    "# Execute checks\n",
    "\n",
    "print(f'--- Check the latest image metadata (revision) against the git repo commit')\n",
    "\n",
    "commands1 = list()\n",
    "commands1.append(f'docker image inspect awsdx/sdx-controller:latest | jq -r \\'.[0].Config.Labels[\"org.opencontainers.image.revision\"]\\'')\n",
    "commands1.append(f'git ls-remote https://github.com/atlanticwave-sdx/sdx-controller.git HEAD | cut -f1')\n",
    "\n",
    "commands2 = list()\n",
    "commands2.append(f'docker image inspect awsdx/sdx-lc:latest | jq -r \\'.[0].Config.Labels[\"org.opencontainers.image.revision\"]\\'')\n",
    "commands2.append(f'git ls-remote https://github.com/atlanticwave-sdx/sdx-lc.git HEAD | cut -f1')\n",
    "\n",
    "for command in commands1 + commands2:\n",
    "    print(f'Executing {command}')\n",
    "    stdout, stderr = node.execute(command)\n",
    "    \n",
    "print('Done')"
   ]
  },
  {
   "cell_type": "markdown",
   "metadata": {},
   "source": [
    "\n",
    "![Docker image metadata](./awsdx-e2e/docker-image-meta.png)"
   ]
  },
  {
   "cell_type": "markdown",
   "metadata": {},
   "source": [
    "### Docker Hub Login (optional)\n",
    "Create personal access token -> https://docs.docker.com/security/for-developers/access-tokens/"
   ]
  },
  {
   "cell_type": "code",
   "execution_count": null,
   "metadata": {},
   "outputs": [],
   "source": [
    "# Docker Login - when necessary\n",
    "\n",
    "docker_access_token = '<DOCKER_PERSONAL_ACCESS_TOKEN>'\n",
    "docker_user_account = '<DOCKER_USER_ACCOUNT>'\n",
    "\n",
    "commands = list()\n",
    "#commands.append(f'echo {docker_access_token} | docker login --username {docker_user_account} --password-stdin')\n",
    "\n",
    "for command in commands:\n",
    "    print(f'Executing {command}')\n",
    "    stdout, stderr = node.execute(command)\n",
    "    \n",
    "print('Done')"
   ]
  },
  {
   "cell_type": "markdown",
   "metadata": {},
   "source": [
    "## Step 8: Delete the Slice\n",
    "\n",
    "Please delete your slice when you are done with your experiment."
   ]
  },
  {
   "cell_type": "code",
   "execution_count": null,
   "metadata": {},
   "outputs": [],
   "source": [
    "try:\n",
    "    slice = fablib.get_slice(name=slice_name)\n",
    "    ###slice.delete()\n",
    "except Exception as e:\n",
    "    print(f\"Exception: {e}\")"
   ]
  }
 ],
 "metadata": {
  "kernelspec": {
   "display_name": "Python 3 (ipykernel)",
   "language": "python",
   "name": "python3"
  },
  "language_info": {
   "codemirror_mode": {
    "name": "ipython",
    "version": 3
   },
   "file_extension": ".py",
   "mimetype": "text/x-python",
   "name": "python",
   "nbconvert_exporter": "python",
   "pygments_lexer": "ipython3",
   "version": "3.11.9"
  }
 },
 "nbformat": 4,
 "nbformat_minor": 4
}
