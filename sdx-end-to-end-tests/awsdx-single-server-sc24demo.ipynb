{
 "cells": [
  {
   "cell_type": "markdown",
   "metadata": {},
   "source": [
    "\n",
    "# AWSDX Single Server > sc24-demo \n",
    "#### (derived from) Functional Test 3.2.1 - Local bridge with Shared NICs\n",
    "\n",
    "This Jupyter notebook will allow you to create VMs on different sites and worker nodes consistent with requirements for test 3.2.1 for testing Shared NIC with a local bridge.\n",
    "\n",
    "## Step 1:  Configure the Environment\n",
    "\n",
    "Before running this notebook, you will need to configure your environment using the [Configure Environment](../../fablib_api/configure_environment/configure_environment.ipynb) notebook. Please stop here, open and run that notebook, then return to this notebook.\n",
    "\n",
    "**This only needs to be done once.**"
   ]
  },
  {
   "cell_type": "markdown",
   "metadata": {},
   "source": [
    "## Step 2: Import the FABlib Library\n"
   ]
  },
  {
   "cell_type": "code",
   "execution_count": 28,
   "metadata": {
    "scrolled": true
   },
   "outputs": [
    {
     "data": {
      "text/html": [
       "<style type=\"text/css\">\n",
       "#T_c23d9 tr:nth-child(even) {\n",
       "  background: #dbf3ff;\n",
       "  color: #231f20;\n",
       "}\n",
       "#T_c23d9 tr:nth-child(odd) {\n",
       "  background: #ffffff;\n",
       "  color: #231f20;\n",
       "}\n",
       "#T_c23d9 caption {\n",
       "  text-align: center;\n",
       "  font-size: 150%;\n",
       "}\n",
       "#T_c23d9_row0_col0, #T_c23d9_row0_col1, #T_c23d9_row1_col0, #T_c23d9_row1_col1, #T_c23d9_row2_col0, #T_c23d9_row2_col1, #T_c23d9_row3_col0, #T_c23d9_row3_col1, #T_c23d9_row4_col0, #T_c23d9_row4_col1, #T_c23d9_row5_col0, #T_c23d9_row5_col1, #T_c23d9_row6_col0, #T_c23d9_row6_col1, #T_c23d9_row7_col0, #T_c23d9_row7_col1, #T_c23d9_row8_col0, #T_c23d9_row8_col1, #T_c23d9_row9_col0, #T_c23d9_row9_col1, #T_c23d9_row10_col0, #T_c23d9_row10_col1, #T_c23d9_row11_col0, #T_c23d9_row11_col1, #T_c23d9_row12_col0, #T_c23d9_row12_col1, #T_c23d9_row13_col0, #T_c23d9_row13_col1, #T_c23d9_row14_col0, #T_c23d9_row14_col1, #T_c23d9_row15_col0, #T_c23d9_row15_col1, #T_c23d9_row16_col0, #T_c23d9_row16_col1, #T_c23d9_row17_col0, #T_c23d9_row17_col1, #T_c23d9_row18_col0, #T_c23d9_row18_col1 {\n",
       "  text-align: left;\n",
       "  border: 1px #231f20 solid !important;\n",
       "  overwrite: False;\n",
       "}\n",
       "</style>\n",
       "<table id=\"T_c23d9\">\n",
       "  <caption>FABlib Config</caption>\n",
       "  <thead>\n",
       "  </thead>\n",
       "  <tbody>\n",
       "    <tr>\n",
       "      <td id=\"T_c23d9_row0_col0\" class=\"data row0 col0\" >Credential Manager</td>\n",
       "      <td id=\"T_c23d9_row0_col1\" class=\"data row0 col1\" >cm.fabric-testbed.net</td>\n",
       "    </tr>\n",
       "    <tr>\n",
       "      <td id=\"T_c23d9_row1_col0\" class=\"data row1 col0\" >Orchestrator</td>\n",
       "      <td id=\"T_c23d9_row1_col1\" class=\"data row1 col1\" >orchestrator.fabric-testbed.net</td>\n",
       "    </tr>\n",
       "    <tr>\n",
       "      <td id=\"T_c23d9_row2_col0\" class=\"data row2 col0\" >Project ID</td>\n",
       "      <td id=\"T_c23d9_row2_col1\" class=\"data row2 col1\" >990d8a8b-7e50-4d13-a3be-0f133ffa8653</td>\n",
       "    </tr>\n",
       "    <tr>\n",
       "      <td id=\"T_c23d9_row3_col0\" class=\"data row3 col0\" >Token File</td>\n",
       "      <td id=\"T_c23d9_row3_col1\" class=\"data row3 col1\" >/home/fabric/.tokens.json</td>\n",
       "    </tr>\n",
       "    <tr>\n",
       "      <td id=\"T_c23d9_row4_col0\" class=\"data row4 col0\" >Bastion Host</td>\n",
       "      <td id=\"T_c23d9_row4_col1\" class=\"data row4 col1\" >bastion.fabric-testbed.net</td>\n",
       "    </tr>\n",
       "    <tr>\n",
       "      <td id=\"T_c23d9_row5_col0\" class=\"data row5 col0\" >Bastion Username</td>\n",
       "      <td id=\"T_c23d9_row5_col1\" class=\"data row5 col1\" >mcevik_0000100641</td>\n",
       "    </tr>\n",
       "    <tr>\n",
       "      <td id=\"T_c23d9_row6_col0\" class=\"data row6 col0\" >Bastion Private Key File</td>\n",
       "      <td id=\"T_c23d9_row6_col1\" class=\"data row6 col1\" >/home/fabric/work/fabric_config/mcevik_0000100641_bastion</td>\n",
       "    </tr>\n",
       "    <tr>\n",
       "      <td id=\"T_c23d9_row7_col0\" class=\"data row7 col0\" >Slice Private Key File</td>\n",
       "      <td id=\"T_c23d9_row7_col1\" class=\"data row7 col1\" >/home/fabric/work/fabric_config/mcevik_0000100641_sliver</td>\n",
       "    </tr>\n",
       "    <tr>\n",
       "      <td id=\"T_c23d9_row8_col0\" class=\"data row8 col0\" >Slice Public Key File</td>\n",
       "      <td id=\"T_c23d9_row8_col1\" class=\"data row8 col1\" >/home/fabric/work/fabric_config/mcevik_0000100641_sliver.pub</td>\n",
       "    </tr>\n",
       "    <tr>\n",
       "      <td id=\"T_c23d9_row9_col0\" class=\"data row9 col0\" >Log File</td>\n",
       "      <td id=\"T_c23d9_row9_col1\" class=\"data row9 col1\" >/tmp/fablib/fablib.log</td>\n",
       "    </tr>\n",
       "    <tr>\n",
       "      <td id=\"T_c23d9_row10_col0\" class=\"data row10 col0\" >Log Level</td>\n",
       "      <td id=\"T_c23d9_row10_col1\" class=\"data row10 col1\" >INFO</td>\n",
       "    </tr>\n",
       "    <tr>\n",
       "      <td id=\"T_c23d9_row11_col0\" class=\"data row11 col0\" >Sites to avoid</td>\n",
       "      <td id=\"T_c23d9_row11_col1\" class=\"data row11 col1\" ></td>\n",
       "    </tr>\n",
       "    <tr>\n",
       "      <td id=\"T_c23d9_row12_col0\" class=\"data row12 col0\" >SSH Command Line</td>\n",
       "      <td id=\"T_c23d9_row12_col1\" class=\"data row12 col1\" >ssh -i {{ _self_.private_ssh_key_file }} -F /home/fabric/work/fabric_config/ssh_config {{ _self_.username }}@{{ _self_.management_ip }}</td>\n",
       "    </tr>\n",
       "    <tr>\n",
       "      <td id=\"T_c23d9_row13_col0\" class=\"data row13 col0\" >Version</td>\n",
       "      <td id=\"T_c23d9_row13_col1\" class=\"data row13 col1\" >1.8.0</td>\n",
       "    </tr>\n",
       "    <tr>\n",
       "      <td id=\"T_c23d9_row14_col0\" class=\"data row14 col0\" >Data directory</td>\n",
       "      <td id=\"T_c23d9_row14_col1\" class=\"data row14 col1\" >/tmp/fablib</td>\n",
       "    </tr>\n",
       "    <tr>\n",
       "      <td id=\"T_c23d9_row15_col0\" class=\"data row15 col0\" >Core API</td>\n",
       "      <td id=\"T_c23d9_row15_col1\" class=\"data row15 col1\" >uis.fabric-testbed.net</td>\n",
       "    </tr>\n",
       "    <tr>\n",
       "      <td id=\"T_c23d9_row16_col0\" class=\"data row16 col0\" >Artifact Manager</td>\n",
       "      <td id=\"T_c23d9_row16_col1\" class=\"data row16 col1\" >artifacts.fabric-testbed.net</td>\n",
       "    </tr>\n",
       "    <tr>\n",
       "      <td id=\"T_c23d9_row17_col0\" class=\"data row17 col0\" >Bastion SSH Config File</td>\n",
       "      <td id=\"T_c23d9_row17_col1\" class=\"data row17 col1\" >/home/fabric/work/fabric_config/ssh_config</td>\n",
       "    </tr>\n",
       "    <tr>\n",
       "      <td id=\"T_c23d9_row18_col0\" class=\"data row18 col0\" >Project Name</td>\n",
       "      <td id=\"T_c23d9_row18_col1\" class=\"data row18 col1\" >FABRIC Staff</td>\n",
       "    </tr>\n",
       "  </tbody>\n",
       "</table>\n"
      ],
      "text/plain": [
       "<pandas.io.formats.style.Styler at 0x7842845fd990>"
      ]
     },
     "metadata": {},
     "output_type": "display_data"
    },
    {
     "data": {
      "text/html": [
       "<style type=\"text/css\">\n",
       "#T_c23d9 tr:nth-child(even) {\n",
       "  background: #dbf3ff;\n",
       "  color: #231f20;\n",
       "}\n",
       "#T_c23d9 tr:nth-child(odd) {\n",
       "  background: #ffffff;\n",
       "  color: #231f20;\n",
       "}\n",
       "#T_c23d9 caption {\n",
       "  text-align: center;\n",
       "  font-size: 150%;\n",
       "}\n",
       "#T_c23d9_row0_col0, #T_c23d9_row0_col1, #T_c23d9_row1_col0, #T_c23d9_row1_col1, #T_c23d9_row2_col0, #T_c23d9_row2_col1, #T_c23d9_row3_col0, #T_c23d9_row3_col1, #T_c23d9_row4_col0, #T_c23d9_row4_col1, #T_c23d9_row5_col0, #T_c23d9_row5_col1, #T_c23d9_row6_col0, #T_c23d9_row6_col1, #T_c23d9_row7_col0, #T_c23d9_row7_col1, #T_c23d9_row8_col0, #T_c23d9_row8_col1, #T_c23d9_row9_col0, #T_c23d9_row9_col1, #T_c23d9_row10_col0, #T_c23d9_row10_col1, #T_c23d9_row11_col0, #T_c23d9_row11_col1, #T_c23d9_row12_col0, #T_c23d9_row12_col1, #T_c23d9_row13_col0, #T_c23d9_row13_col1, #T_c23d9_row14_col0, #T_c23d9_row14_col1, #T_c23d9_row15_col0, #T_c23d9_row15_col1, #T_c23d9_row16_col0, #T_c23d9_row16_col1, #T_c23d9_row17_col0, #T_c23d9_row17_col1, #T_c23d9_row18_col0, #T_c23d9_row18_col1 {\n",
       "  text-align: left;\n",
       "  border: 1px #231f20 solid !important;\n",
       "  overwrite: False;\n",
       "}\n",
       "</style>\n",
       "<table id=\"T_c23d9\">\n",
       "  <caption>FABlib Config</caption>\n",
       "  <thead>\n",
       "  </thead>\n",
       "  <tbody>\n",
       "    <tr>\n",
       "      <td id=\"T_c23d9_row0_col0\" class=\"data row0 col0\" >Credential Manager</td>\n",
       "      <td id=\"T_c23d9_row0_col1\" class=\"data row0 col1\" >cm.fabric-testbed.net</td>\n",
       "    </tr>\n",
       "    <tr>\n",
       "      <td id=\"T_c23d9_row1_col0\" class=\"data row1 col0\" >Orchestrator</td>\n",
       "      <td id=\"T_c23d9_row1_col1\" class=\"data row1 col1\" >orchestrator.fabric-testbed.net</td>\n",
       "    </tr>\n",
       "    <tr>\n",
       "      <td id=\"T_c23d9_row2_col0\" class=\"data row2 col0\" >Project ID</td>\n",
       "      <td id=\"T_c23d9_row2_col1\" class=\"data row2 col1\" >990d8a8b-7e50-4d13-a3be-0f133ffa8653</td>\n",
       "    </tr>\n",
       "    <tr>\n",
       "      <td id=\"T_c23d9_row3_col0\" class=\"data row3 col0\" >Token File</td>\n",
       "      <td id=\"T_c23d9_row3_col1\" class=\"data row3 col1\" >/home/fabric/.tokens.json</td>\n",
       "    </tr>\n",
       "    <tr>\n",
       "      <td id=\"T_c23d9_row4_col0\" class=\"data row4 col0\" >Bastion Host</td>\n",
       "      <td id=\"T_c23d9_row4_col1\" class=\"data row4 col1\" >bastion.fabric-testbed.net</td>\n",
       "    </tr>\n",
       "    <tr>\n",
       "      <td id=\"T_c23d9_row5_col0\" class=\"data row5 col0\" >Bastion Username</td>\n",
       "      <td id=\"T_c23d9_row5_col1\" class=\"data row5 col1\" >mcevik_0000100641</td>\n",
       "    </tr>\n",
       "    <tr>\n",
       "      <td id=\"T_c23d9_row6_col0\" class=\"data row6 col0\" >Bastion Private Key File</td>\n",
       "      <td id=\"T_c23d9_row6_col1\" class=\"data row6 col1\" >/home/fabric/work/fabric_config/mcevik_0000100641_bastion</td>\n",
       "    </tr>\n",
       "    <tr>\n",
       "      <td id=\"T_c23d9_row7_col0\" class=\"data row7 col0\" >Slice Private Key File</td>\n",
       "      <td id=\"T_c23d9_row7_col1\" class=\"data row7 col1\" >/home/fabric/work/fabric_config/mcevik_0000100641_sliver</td>\n",
       "    </tr>\n",
       "    <tr>\n",
       "      <td id=\"T_c23d9_row8_col0\" class=\"data row8 col0\" >Slice Public Key File</td>\n",
       "      <td id=\"T_c23d9_row8_col1\" class=\"data row8 col1\" >/home/fabric/work/fabric_config/mcevik_0000100641_sliver.pub</td>\n",
       "    </tr>\n",
       "    <tr>\n",
       "      <td id=\"T_c23d9_row9_col0\" class=\"data row9 col0\" >Log File</td>\n",
       "      <td id=\"T_c23d9_row9_col1\" class=\"data row9 col1\" >/tmp/fablib/fablib.log</td>\n",
       "    </tr>\n",
       "    <tr>\n",
       "      <td id=\"T_c23d9_row10_col0\" class=\"data row10 col0\" >Log Level</td>\n",
       "      <td id=\"T_c23d9_row10_col1\" class=\"data row10 col1\" >INFO</td>\n",
       "    </tr>\n",
       "    <tr>\n",
       "      <td id=\"T_c23d9_row11_col0\" class=\"data row11 col0\" >Sites to avoid</td>\n",
       "      <td id=\"T_c23d9_row11_col1\" class=\"data row11 col1\" ></td>\n",
       "    </tr>\n",
       "    <tr>\n",
       "      <td id=\"T_c23d9_row12_col0\" class=\"data row12 col0\" >SSH Command Line</td>\n",
       "      <td id=\"T_c23d9_row12_col1\" class=\"data row12 col1\" >ssh -i {{ _self_.private_ssh_key_file }} -F /home/fabric/work/fabric_config/ssh_config {{ _self_.username }}@{{ _self_.management_ip }}</td>\n",
       "    </tr>\n",
       "    <tr>\n",
       "      <td id=\"T_c23d9_row13_col0\" class=\"data row13 col0\" >Version</td>\n",
       "      <td id=\"T_c23d9_row13_col1\" class=\"data row13 col1\" >1.8.0</td>\n",
       "    </tr>\n",
       "    <tr>\n",
       "      <td id=\"T_c23d9_row14_col0\" class=\"data row14 col0\" >Data directory</td>\n",
       "      <td id=\"T_c23d9_row14_col1\" class=\"data row14 col1\" >/tmp/fablib</td>\n",
       "    </tr>\n",
       "    <tr>\n",
       "      <td id=\"T_c23d9_row15_col0\" class=\"data row15 col0\" >Core API</td>\n",
       "      <td id=\"T_c23d9_row15_col1\" class=\"data row15 col1\" >uis.fabric-testbed.net</td>\n",
       "    </tr>\n",
       "    <tr>\n",
       "      <td id=\"T_c23d9_row16_col0\" class=\"data row16 col0\" >Artifact Manager</td>\n",
       "      <td id=\"T_c23d9_row16_col1\" class=\"data row16 col1\" >artifacts.fabric-testbed.net</td>\n",
       "    </tr>\n",
       "    <tr>\n",
       "      <td id=\"T_c23d9_row17_col0\" class=\"data row17 col0\" >Bastion SSH Config File</td>\n",
       "      <td id=\"T_c23d9_row17_col1\" class=\"data row17 col1\" >/home/fabric/work/fabric_config/ssh_config</td>\n",
       "    </tr>\n",
       "    <tr>\n",
       "      <td id=\"T_c23d9_row18_col0\" class=\"data row18 col0\" >Project Name</td>\n",
       "      <td id=\"T_c23d9_row18_col1\" class=\"data row18 col1\" >FABRIC Staff</td>\n",
       "    </tr>\n",
       "  </tbody>\n",
       "</table>\n"
      ],
      "text/plain": [
       "<pandas.io.formats.style.Styler at 0x7842845fd990>"
      ]
     },
     "execution_count": 28,
     "metadata": {},
     "output_type": "execute_result"
    }
   ],
   "source": [
    "from fabrictestbed_extensions.fablib.fablib import FablibManager as fablib_manager\n",
    "\n",
    "fablib = fablib_manager()\n",
    "                     \n",
    "fablib.show_config()"
   ]
  },
  {
   "cell_type": "markdown",
   "metadata": {},
   "source": [
    "## Step 3: Check your existing slices\n",
    "\n",
    "Since testing can get confusing, check what slices you actually have. It may print nothing if you have no active slices."
   ]
  },
  {
   "cell_type": "code",
   "execution_count": 29,
   "metadata": {
    "tags": []
   },
   "outputs": [
    {
     "name": "stdout",
     "output_type": "stream",
     "text": [
      "-----------  ------------------------------------\n",
      "Slice Name   Xilinx Tools Storage Slice\n",
      "Slice ID     e873c70a-6858-488a-bed9-1dfd5b13493b\n",
      "Slice State  StableOK\n",
      "Lease End    2025-04-23 22:27:24 +0000\n",
      "-----------  ------------------------------------\n",
      "-----------  ------------------------------------\n",
      "Slice Name   FIU - reserve worker-3 spare\n",
      "Slice ID     98a2459b-1c6b-4577-ba61-4137553e5838\n",
      "Slice State  AllocatedOK\n",
      "Lease End    2025-04-17 03:00:00 +0000\n",
      "-----------  ------------------------------------\n"
     ]
    }
   ],
   "source": [
    "try:\n",
    "    for slice in fablib.get_slices():\n",
    "        print(f\"{slice}\")\n",
    "except Exception as e:\n",
    "    print(f\"Exception: {e}\")"
   ]
  },
  {
   "cell_type": "markdown",
   "metadata": {
    "tags": []
   },
   "source": [
    "## Step 4: Create the Slice\n",
    "\n",
    "The following creates two nodes with a shared NIC each. This should be run all worker nodes regardless of type.\n",
    "\n",
    "Two nodes with one NIC component each are created on different workers.  This example uses components of model `NIC_Basic` which are SR-IOV Virtual Function on a 100 Gpbs Mellanox ConnectX-6 PCI device. The VF is accessed by the node via PCI passthrough. \n",
    "\n",
    "**Be sure to try different combinations of workers**"
   ]
  },
  {
   "cell_type": "code",
   "execution_count": 30,
   "metadata": {
    "tags": []
   },
   "outputs": [],
   "source": [
    "from datetime import datetime\n",
    "from dateutil import tz\n",
    "\n",
    "name1='Node1'\n",
    "nic1_name='SharedNIC1'\n",
    "\n",
    "name2='Node2'\n",
    "nic2_name='SharedNIC2'\n",
    "\n",
    "network_name='l2-bridge'\n",
    "\n",
    "site='FIU'\n",
    "\n",
    "# since all workers have a standard naming scheme, you can just change the worker\n",
    "# to move from worker to worker\n",
    "#worker1=f'{site.lower()}-w1.fabric-testbed.net'\n",
    "#worker2=f'{site.lower()}-w2.fabric-testbed.net'\n",
    "\n",
    "cores=10\n",
    "ram=20\n",
    "disk=50\n",
    "\n",
    "slice_name=f\"AWSDX sc2024-demo {site} {datetime.now().strftime('%Y-%m-%d-%H-%M')}\""
   ]
  },
  {
   "cell_type": "markdown",
   "metadata": {},
   "source": [
    "### List of the VM images\n",
    "\n",
    "Available images on FABRIC Testbed\n",
    "\n",
    "```\n",
    "+------------------------------+\n",
    "| Name                         |\n",
    "+------------------------------+\n",
    "| default_debian_11            |\n",
    "| default_debian_12            |\n",
    "| default_rocky_8              |\n",
    "| default_rocky_9              |\n",
    "| default_ubuntu_20            |\n",
    "| default_ubuntu_22            |\n",
    "| default_ubuntu_24            |\n",
    "| docker_rocky_8               |\n",
    "| docker_rocky_9               |\n",
    "| docker_ubuntu_20             |\n",
    "| docker_ubuntu_22             |\n",
    "| docker_ubuntu_24             |\n",
    "+------------------------------+\n",
    "```"
   ]
  },
  {
   "cell_type": "code",
   "execution_count": 31,
   "metadata": {
    "editable": true,
    "scrolled": true,
    "slideshow": {
     "slide_type": ""
    },
    "tags": []
   },
   "outputs": [
    {
     "name": "stdout",
     "output_type": "stream",
     "text": [
      "\n",
      "Retry: 10, Time: 238 sec\n"
     ]
    },
    {
     "data": {
      "text/html": [
       "<style type=\"text/css\">\n",
       "#T_95f7c tr:nth-child(even) {\n",
       "  background: #dbf3ff;\n",
       "  color: #231f20;\n",
       "}\n",
       "#T_95f7c tr:nth-child(odd) {\n",
       "  background: #ffffff;\n",
       "  color: #231f20;\n",
       "}\n",
       "#T_95f7c caption {\n",
       "  text-align: center;\n",
       "  font-size: 150%;\n",
       "}\n",
       "#T_95f7c_row0_col0, #T_95f7c_row0_col1, #T_95f7c_row1_col0, #T_95f7c_row1_col1, #T_95f7c_row2_col0, #T_95f7c_row2_col1, #T_95f7c_row3_col0, #T_95f7c_row3_col1, #T_95f7c_row4_col0, #T_95f7c_row4_col1, #T_95f7c_row5_col0 {\n",
       "  text-align: left;\n",
       "  border: 1px #231f20 solid !important;\n",
       "  overwrite: False;\n",
       "  background-color: ;\n",
       "}\n",
       "#T_95f7c_row5_col1 {\n",
       "  text-align: left;\n",
       "  border: 1px #231f20 solid !important;\n",
       "  overwrite: False;\n",
       "  background-color: #c3ffc4;\n",
       "}\n",
       "</style>\n",
       "<table id=\"T_95f7c\">\n",
       "  <caption>Slice</caption>\n",
       "  <thead>\n",
       "  </thead>\n",
       "  <tbody>\n",
       "    <tr>\n",
       "      <td id=\"T_95f7c_row0_col0\" class=\"data row0 col0\" >ID</td>\n",
       "      <td id=\"T_95f7c_row0_col1\" class=\"data row0 col1\" >ea9155c7-7d1d-418c-82c6-c966493f8c34</td>\n",
       "    </tr>\n",
       "    <tr>\n",
       "      <td id=\"T_95f7c_row1_col0\" class=\"data row1 col0\" >Name</td>\n",
       "      <td id=\"T_95f7c_row1_col1\" class=\"data row1 col1\" >AWSDX sc2024-demo FIU 2025-04-14-21-25</td>\n",
       "    </tr>\n",
       "    <tr>\n",
       "      <td id=\"T_95f7c_row2_col0\" class=\"data row2 col0\" >Lease Expiration (UTC)</td>\n",
       "      <td id=\"T_95f7c_row2_col1\" class=\"data row2 col1\" >2025-04-15 21:25:48 +0000</td>\n",
       "    </tr>\n",
       "    <tr>\n",
       "      <td id=\"T_95f7c_row3_col0\" class=\"data row3 col0\" >Lease Start (UTC)</td>\n",
       "      <td id=\"T_95f7c_row3_col1\" class=\"data row3 col1\" >2025-04-14 21:25:48 +0000</td>\n",
       "    </tr>\n",
       "    <tr>\n",
       "      <td id=\"T_95f7c_row4_col0\" class=\"data row4 col0\" >Project ID</td>\n",
       "      <td id=\"T_95f7c_row4_col1\" class=\"data row4 col1\" >990d8a8b-7e50-4d13-a3be-0f133ffa8653</td>\n",
       "    </tr>\n",
       "    <tr>\n",
       "      <td id=\"T_95f7c_row5_col0\" class=\"data row5 col0\" >State</td>\n",
       "      <td id=\"T_95f7c_row5_col1\" class=\"data row5 col1\" >StableOK</td>\n",
       "    </tr>\n",
       "  </tbody>\n",
       "</table>\n"
      ],
      "text/plain": [
       "<pandas.io.formats.style.Styler at 0x7842844e73d0>"
      ]
     },
     "metadata": {},
     "output_type": "display_data"
    },
    {
     "data": {
      "text/html": [
       "<style type=\"text/css\">\n",
       "#T_77ab6 caption {\n",
       "  text-align: center;\n",
       "  font-size: 150%;\n",
       "  caption-side: top;\n",
       "}\n",
       "#T_77ab6 th {\n",
       "  text-align: left;\n",
       "}\n",
       "#T_77ab6 tr:nth-child(even) {\n",
       "  background: #ffffff;\n",
       "  color: #231f20;\n",
       "}\n",
       "#T_77ab6 tr:nth-child(odd) {\n",
       "  background: #dbf3ff;\n",
       "  color: #231f20;\n",
       "}\n",
       "#T_77ab6 .level0 {\n",
       "  border: 1px black solid !important;\n",
       "  background: #ffffff;\n",
       "  color: #231f20;\n",
       "}\n",
       "#T_77ab6_row0_col0, #T_77ab6_row0_col1, #T_77ab6_row0_col2, #T_77ab6_row0_col3, #T_77ab6_row0_col4, #T_77ab6_row0_col5, #T_77ab6_row0_col6, #T_77ab6_row0_col7, #T_77ab6_row0_col8, #T_77ab6_row0_col9, #T_77ab6_row0_col10, #T_77ab6_row0_col13, #T_77ab6_row0_col14, #T_77ab6_row0_col15, #T_77ab6_row1_col0, #T_77ab6_row1_col1, #T_77ab6_row1_col2, #T_77ab6_row1_col3, #T_77ab6_row1_col4, #T_77ab6_row1_col5, #T_77ab6_row1_col6, #T_77ab6_row1_col7, #T_77ab6_row1_col8, #T_77ab6_row1_col9, #T_77ab6_row1_col10, #T_77ab6_row1_col13, #T_77ab6_row1_col14, #T_77ab6_row1_col15 {\n",
       "  text-align: left;\n",
       "  border: 1px #231f20 solid !important;\n",
       "  overwrite: False;\n",
       "}\n",
       "#T_77ab6_row0_col11, #T_77ab6_row1_col11 {\n",
       "  text-align: left;\n",
       "  border: 1px #231f20 solid !important;\n",
       "  overwrite: False;\n",
       "  background-color: #c3ffc4;\n",
       "}\n",
       "#T_77ab6_row0_col12, #T_77ab6_row1_col12 {\n",
       "  text-align: left;\n",
       "  border: 1px #231f20 solid !important;\n",
       "  overwrite: False;\n",
       "  background-color: ;\n",
       "}\n",
       "</style>\n",
       "<table id=\"T_77ab6\">\n",
       "  <caption>Nodes</caption>\n",
       "  <thead>\n",
       "    <tr>\n",
       "      <th id=\"T_77ab6_level0_col0\" class=\"col_heading level0 col0\" >ID</th>\n",
       "      <th id=\"T_77ab6_level0_col1\" class=\"col_heading level0 col1\" >Name</th>\n",
       "      <th id=\"T_77ab6_level0_col2\" class=\"col_heading level0 col2\" >Cores</th>\n",
       "      <th id=\"T_77ab6_level0_col3\" class=\"col_heading level0 col3\" >RAM</th>\n",
       "      <th id=\"T_77ab6_level0_col4\" class=\"col_heading level0 col4\" >Disk</th>\n",
       "      <th id=\"T_77ab6_level0_col5\" class=\"col_heading level0 col5\" >Image</th>\n",
       "      <th id=\"T_77ab6_level0_col6\" class=\"col_heading level0 col6\" >Image Type</th>\n",
       "      <th id=\"T_77ab6_level0_col7\" class=\"col_heading level0 col7\" >Host</th>\n",
       "      <th id=\"T_77ab6_level0_col8\" class=\"col_heading level0 col8\" >Site</th>\n",
       "      <th id=\"T_77ab6_level0_col9\" class=\"col_heading level0 col9\" >Username</th>\n",
       "      <th id=\"T_77ab6_level0_col10\" class=\"col_heading level0 col10\" >Management IP</th>\n",
       "      <th id=\"T_77ab6_level0_col11\" class=\"col_heading level0 col11\" >State</th>\n",
       "      <th id=\"T_77ab6_level0_col12\" class=\"col_heading level0 col12\" >Error</th>\n",
       "      <th id=\"T_77ab6_level0_col13\" class=\"col_heading level0 col13\" >SSH Command</th>\n",
       "      <th id=\"T_77ab6_level0_col14\" class=\"col_heading level0 col14\" >Public SSH Key File</th>\n",
       "      <th id=\"T_77ab6_level0_col15\" class=\"col_heading level0 col15\" >Private SSH Key File</th>\n",
       "    </tr>\n",
       "  </thead>\n",
       "  <tbody>\n",
       "    <tr>\n",
       "      <td id=\"T_77ab6_row0_col0\" class=\"data row0 col0\" >335bf561-b93f-4754-9b69-dc8b185314d3</td>\n",
       "      <td id=\"T_77ab6_row0_col1\" class=\"data row0 col1\" >Node1</td>\n",
       "      <td id=\"T_77ab6_row0_col2\" class=\"data row0 col2\" >10</td>\n",
       "      <td id=\"T_77ab6_row0_col3\" class=\"data row0 col3\" >32</td>\n",
       "      <td id=\"T_77ab6_row0_col4\" class=\"data row0 col4\" >100</td>\n",
       "      <td id=\"T_77ab6_row0_col5\" class=\"data row0 col5\" >docker_rocky_8</td>\n",
       "      <td id=\"T_77ab6_row0_col6\" class=\"data row0 col6\" >qcow2</td>\n",
       "      <td id=\"T_77ab6_row0_col7\" class=\"data row0 col7\" >fiu-w4.fabric-testbed.net</td>\n",
       "      <td id=\"T_77ab6_row0_col8\" class=\"data row0 col8\" >FIU</td>\n",
       "      <td id=\"T_77ab6_row0_col9\" class=\"data row0 col9\" >rocky</td>\n",
       "      <td id=\"T_77ab6_row0_col10\" class=\"data row0 col10\" >131.94.57.51</td>\n",
       "      <td id=\"T_77ab6_row0_col11\" class=\"data row0 col11\" >Active</td>\n",
       "      <td id=\"T_77ab6_row0_col12\" class=\"data row0 col12\" ></td>\n",
       "      <td id=\"T_77ab6_row0_col13\" class=\"data row0 col13\" >ssh -i /home/fabric/work/fabric_config/mcevik_0000100641_sliver -F /home/fabric/work/fabric_config/ssh_config rocky@131.94.57.51</td>\n",
       "      <td id=\"T_77ab6_row0_col14\" class=\"data row0 col14\" >/home/fabric/work/fabric_config/mcevik_0000100641_sliver.pub</td>\n",
       "      <td id=\"T_77ab6_row0_col15\" class=\"data row0 col15\" >/home/fabric/work/fabric_config/mcevik_0000100641_sliver</td>\n",
       "    </tr>\n",
       "    <tr>\n",
       "      <td id=\"T_77ab6_row1_col0\" class=\"data row1 col0\" >9b76dbc8-f2cf-457e-ae5f-a6655e40dfa5</td>\n",
       "      <td id=\"T_77ab6_row1_col1\" class=\"data row1 col1\" >Node2</td>\n",
       "      <td id=\"T_77ab6_row1_col2\" class=\"data row1 col2\" >10</td>\n",
       "      <td id=\"T_77ab6_row1_col3\" class=\"data row1 col3\" >32</td>\n",
       "      <td id=\"T_77ab6_row1_col4\" class=\"data row1 col4\" >100</td>\n",
       "      <td id=\"T_77ab6_row1_col5\" class=\"data row1 col5\" >default_debian_12</td>\n",
       "      <td id=\"T_77ab6_row1_col6\" class=\"data row1 col6\" >qcow2</td>\n",
       "      <td id=\"T_77ab6_row1_col7\" class=\"data row1 col7\" >fiu-w4.fabric-testbed.net</td>\n",
       "      <td id=\"T_77ab6_row1_col8\" class=\"data row1 col8\" >FIU</td>\n",
       "      <td id=\"T_77ab6_row1_col9\" class=\"data row1 col9\" >debian</td>\n",
       "      <td id=\"T_77ab6_row1_col10\" class=\"data row1 col10\" >131.94.57.58</td>\n",
       "      <td id=\"T_77ab6_row1_col11\" class=\"data row1 col11\" >Active</td>\n",
       "      <td id=\"T_77ab6_row1_col12\" class=\"data row1 col12\" ></td>\n",
       "      <td id=\"T_77ab6_row1_col13\" class=\"data row1 col13\" >ssh -i /home/fabric/work/fabric_config/mcevik_0000100641_sliver -F /home/fabric/work/fabric_config/ssh_config debian@131.94.57.58</td>\n",
       "      <td id=\"T_77ab6_row1_col14\" class=\"data row1 col14\" >/home/fabric/work/fabric_config/mcevik_0000100641_sliver.pub</td>\n",
       "      <td id=\"T_77ab6_row1_col15\" class=\"data row1 col15\" >/home/fabric/work/fabric_config/mcevik_0000100641_sliver</td>\n",
       "    </tr>\n",
       "  </tbody>\n",
       "</table>\n"
      ],
      "text/plain": [
       "<pandas.io.formats.style.Styler at 0x7842845aab50>"
      ]
     },
     "metadata": {},
     "output_type": "display_data"
    },
    {
     "data": {
      "text/html": [
       "<style type=\"text/css\">\n",
       "#T_60a9e caption {\n",
       "  text-align: center;\n",
       "  font-size: 150%;\n",
       "  caption-side: top;\n",
       "}\n",
       "#T_60a9e th {\n",
       "  text-align: left;\n",
       "}\n",
       "#T_60a9e tr:nth-child(even) {\n",
       "  background: #ffffff;\n",
       "  color: #231f20;\n",
       "}\n",
       "#T_60a9e tr:nth-child(odd) {\n",
       "  background: #dbf3ff;\n",
       "  color: #231f20;\n",
       "}\n",
       "#T_60a9e .level0 {\n",
       "  border: 1px black solid !important;\n",
       "  background: #ffffff;\n",
       "  color: #231f20;\n",
       "}\n",
       "#T_60a9e_row0_col0, #T_60a9e_row0_col1, #T_60a9e_row0_col2, #T_60a9e_row0_col3, #T_60a9e_row0_col4, #T_60a9e_row0_col5, #T_60a9e_row0_col6 {\n",
       "  text-align: left;\n",
       "  border: 1px #231f20 solid !important;\n",
       "  overwrite: False;\n",
       "}\n",
       "#T_60a9e_row0_col7 {\n",
       "  text-align: left;\n",
       "  border: 1px #231f20 solid !important;\n",
       "  overwrite: False;\n",
       "  background-color: #c3ffc4;\n",
       "}\n",
       "#T_60a9e_row0_col8 {\n",
       "  text-align: left;\n",
       "  border: 1px #231f20 solid !important;\n",
       "  overwrite: False;\n",
       "  background-color: ;\n",
       "}\n",
       "</style>\n",
       "<table id=\"T_60a9e\">\n",
       "  <caption>Networks</caption>\n",
       "  <thead>\n",
       "    <tr>\n",
       "      <th id=\"T_60a9e_level0_col0\" class=\"col_heading level0 col0\" >ID</th>\n",
       "      <th id=\"T_60a9e_level0_col1\" class=\"col_heading level0 col1\" >Name</th>\n",
       "      <th id=\"T_60a9e_level0_col2\" class=\"col_heading level0 col2\" >Layer</th>\n",
       "      <th id=\"T_60a9e_level0_col3\" class=\"col_heading level0 col3\" >Type</th>\n",
       "      <th id=\"T_60a9e_level0_col4\" class=\"col_heading level0 col4\" >Site</th>\n",
       "      <th id=\"T_60a9e_level0_col5\" class=\"col_heading level0 col5\" >Subnet</th>\n",
       "      <th id=\"T_60a9e_level0_col6\" class=\"col_heading level0 col6\" >Gateway</th>\n",
       "      <th id=\"T_60a9e_level0_col7\" class=\"col_heading level0 col7\" >State</th>\n",
       "      <th id=\"T_60a9e_level0_col8\" class=\"col_heading level0 col8\" >Error</th>\n",
       "    </tr>\n",
       "  </thead>\n",
       "  <tbody>\n",
       "    <tr>\n",
       "      <td id=\"T_60a9e_row0_col0\" class=\"data row0 col0\" >e96edb9e-f329-4fcd-a88a-ac694a990701</td>\n",
       "      <td id=\"T_60a9e_row0_col1\" class=\"data row0 col1\" >l2-bridge</td>\n",
       "      <td id=\"T_60a9e_row0_col2\" class=\"data row0 col2\" >L2</td>\n",
       "      <td id=\"T_60a9e_row0_col3\" class=\"data row0 col3\" >L2Bridge</td>\n",
       "      <td id=\"T_60a9e_row0_col4\" class=\"data row0 col4\" >FIU</td>\n",
       "      <td id=\"T_60a9e_row0_col5\" class=\"data row0 col5\" >None</td>\n",
       "      <td id=\"T_60a9e_row0_col6\" class=\"data row0 col6\" >None</td>\n",
       "      <td id=\"T_60a9e_row0_col7\" class=\"data row0 col7\" >Active</td>\n",
       "      <td id=\"T_60a9e_row0_col8\" class=\"data row0 col8\" ></td>\n",
       "    </tr>\n",
       "  </tbody>\n",
       "</table>\n"
      ],
      "text/plain": [
       "<pandas.io.formats.style.Styler at 0x784284573fd0>"
      ]
     },
     "metadata": {},
     "output_type": "display_data"
    },
    {
     "data": {
      "text/html": [
       "<style type=\"text/css\">\n",
       "#T_8f8a4 caption {\n",
       "  text-align: center;\n",
       "  font-size: 150%;\n",
       "  caption-side: top;\n",
       "}\n",
       "#T_8f8a4 th {\n",
       "  text-align: left;\n",
       "}\n",
       "#T_8f8a4 tr:nth-child(even) {\n",
       "  background: #ffffff;\n",
       "  color: #231f20;\n",
       "}\n",
       "#T_8f8a4 tr:nth-child(odd) {\n",
       "  background: #dbf3ff;\n",
       "  color: #231f20;\n",
       "}\n",
       "#T_8f8a4 .level0 {\n",
       "  border: 1px black solid !important;\n",
       "  background: #ffffff;\n",
       "  color: #231f20;\n",
       "}\n",
       "#T_8f8a4_row0_col0, #T_8f8a4_row0_col1, #T_8f8a4_row0_col2, #T_8f8a4_row0_col3, #T_8f8a4_row0_col4, #T_8f8a4_row0_col5, #T_8f8a4_row0_col6, #T_8f8a4_row0_col7, #T_8f8a4_row0_col8, #T_8f8a4_row0_col9, #T_8f8a4_row0_col10, #T_8f8a4_row0_col11, #T_8f8a4_row0_col12, #T_8f8a4_row1_col0, #T_8f8a4_row1_col1, #T_8f8a4_row1_col2, #T_8f8a4_row1_col3, #T_8f8a4_row1_col4, #T_8f8a4_row1_col5, #T_8f8a4_row1_col6, #T_8f8a4_row1_col7, #T_8f8a4_row1_col8, #T_8f8a4_row1_col9, #T_8f8a4_row1_col10, #T_8f8a4_row1_col11, #T_8f8a4_row1_col12 {\n",
       "  text-align: left;\n",
       "  border: 1px #231f20 solid !important;\n",
       "  overwrite: False;\n",
       "}\n",
       "</style>\n",
       "<table id=\"T_8f8a4\">\n",
       "  <caption>Interfaces</caption>\n",
       "  <thead>\n",
       "    <tr>\n",
       "      <th id=\"T_8f8a4_level0_col0\" class=\"col_heading level0 col0\" >Name</th>\n",
       "      <th id=\"T_8f8a4_level0_col1\" class=\"col_heading level0 col1\" >Short Name</th>\n",
       "      <th id=\"T_8f8a4_level0_col2\" class=\"col_heading level0 col2\" >Node</th>\n",
       "      <th id=\"T_8f8a4_level0_col3\" class=\"col_heading level0 col3\" >Network</th>\n",
       "      <th id=\"T_8f8a4_level0_col4\" class=\"col_heading level0 col4\" >Bandwidth</th>\n",
       "      <th id=\"T_8f8a4_level0_col5\" class=\"col_heading level0 col5\" >Mode</th>\n",
       "      <th id=\"T_8f8a4_level0_col6\" class=\"col_heading level0 col6\" >VLAN</th>\n",
       "      <th id=\"T_8f8a4_level0_col7\" class=\"col_heading level0 col7\" >MAC</th>\n",
       "      <th id=\"T_8f8a4_level0_col8\" class=\"col_heading level0 col8\" >Physical Device</th>\n",
       "      <th id=\"T_8f8a4_level0_col9\" class=\"col_heading level0 col9\" >Device</th>\n",
       "      <th id=\"T_8f8a4_level0_col10\" class=\"col_heading level0 col10\" >IP Address</th>\n",
       "      <th id=\"T_8f8a4_level0_col11\" class=\"col_heading level0 col11\" >Numa Node</th>\n",
       "      <th id=\"T_8f8a4_level0_col12\" class=\"col_heading level0 col12\" >Switch Port</th>\n",
       "    </tr>\n",
       "  </thead>\n",
       "  <tbody>\n",
       "    <tr>\n",
       "      <td id=\"T_8f8a4_row0_col0\" class=\"data row0 col0\" >Node1-SharedNIC1-p1</td>\n",
       "      <td id=\"T_8f8a4_row0_col1\" class=\"data row0 col1\" >p1</td>\n",
       "      <td id=\"T_8f8a4_row0_col2\" class=\"data row0 col2\" >Node1</td>\n",
       "      <td id=\"T_8f8a4_row0_col3\" class=\"data row0 col3\" >l2-bridge</td>\n",
       "      <td id=\"T_8f8a4_row0_col4\" class=\"data row0 col4\" >100</td>\n",
       "      <td id=\"T_8f8a4_row0_col5\" class=\"data row0 col5\" >config</td>\n",
       "      <td id=\"T_8f8a4_row0_col6\" class=\"data row0 col6\" ></td>\n",
       "      <td id=\"T_8f8a4_row0_col7\" class=\"data row0 col7\" >06:8D:B4:9B:91:AF</td>\n",
       "      <td id=\"T_8f8a4_row0_col8\" class=\"data row0 col8\" >enp7s0</td>\n",
       "      <td id=\"T_8f8a4_row0_col9\" class=\"data row0 col9\" >enp7s0</td>\n",
       "      <td id=\"T_8f8a4_row0_col10\" class=\"data row0 col10\" >None</td>\n",
       "      <td id=\"T_8f8a4_row0_col11\" class=\"data row0 col11\" >4</td>\n",
       "      <td id=\"T_8f8a4_row0_col12\" class=\"data row0 col12\" >HundredGigE0/0/0/11</td>\n",
       "    </tr>\n",
       "    <tr>\n",
       "      <td id=\"T_8f8a4_row1_col0\" class=\"data row1 col0\" >Node2-SharedNIC2-p1</td>\n",
       "      <td id=\"T_8f8a4_row1_col1\" class=\"data row1 col1\" >p1</td>\n",
       "      <td id=\"T_8f8a4_row1_col2\" class=\"data row1 col2\" >Node2</td>\n",
       "      <td id=\"T_8f8a4_row1_col3\" class=\"data row1 col3\" >l2-bridge</td>\n",
       "      <td id=\"T_8f8a4_row1_col4\" class=\"data row1 col4\" >100</td>\n",
       "      <td id=\"T_8f8a4_row1_col5\" class=\"data row1 col5\" >config</td>\n",
       "      <td id=\"T_8f8a4_row1_col6\" class=\"data row1 col6\" ></td>\n",
       "      <td id=\"T_8f8a4_row1_col7\" class=\"data row1 col7\" >0A:FB:6A:2F:EC:A2</td>\n",
       "      <td id=\"T_8f8a4_row1_col8\" class=\"data row1 col8\" >enp7s0</td>\n",
       "      <td id=\"T_8f8a4_row1_col9\" class=\"data row1 col9\" >enp7s0</td>\n",
       "      <td id=\"T_8f8a4_row1_col10\" class=\"data row1 col10\" >fe80::8fb:6aff:fe2f:eca2</td>\n",
       "      <td id=\"T_8f8a4_row1_col11\" class=\"data row1 col11\" >4</td>\n",
       "      <td id=\"T_8f8a4_row1_col12\" class=\"data row1 col12\" >HundredGigE0/0/0/11</td>\n",
       "    </tr>\n",
       "  </tbody>\n",
       "</table>\n"
      ],
      "text/plain": [
       "<pandas.io.formats.style.Styler at 0x78428463f890>"
      ]
     },
     "metadata": {},
     "output_type": "display_data"
    },
    {
     "name": "stdout",
     "output_type": "stream",
     "text": [
      "\n",
      "Time to print interfaces 242 seconds\n"
     ]
    }
   ],
   "source": [
    "try:\n",
    "    #Create Slice\n",
    "    print(f'Creating slice {slice_name}')\n",
    "    slice = fablib.new_slice(name=slice_name)\n",
    "\n",
    "    # Node1\n",
    "    node1 = slice.add_node(name=name1, site=site, cores=cores, ram=ram, disk=disk, image=\"docker_rocky_8\")\n",
    "    iface1 = node1.add_component(model='NIC_Basic', name=nic1_name).get_interfaces()[0]\n",
    "    \n",
    "    node2 = slice.add_node(name=name2, site=site, cores=cores, ram=ram, disk=disk, image=\"default_debian_12\")\n",
    "    iface2 = node2.add_component(model='NIC_Basic', name=nic2_name).get_interfaces()[0]\n",
    "    \n",
    "    # Network\n",
    "    net1 = slice.add_l2network(name=network_name, interfaces=[iface1, iface2])\n",
    " \n",
    "    #Submit Slice Request\n",
    "    slice.submit()\n",
    "except Exception as e:\n",
    "    print(f\"Exception: {e}\")"
   ]
  },
  {
   "cell_type": "markdown",
   "metadata": {
    "tags": []
   },
   "source": [
    "## Step 5: Observe the Slice's Attributes\n",
    "\n",
    "### Print the slice "
   ]
  },
  {
   "cell_type": "code",
   "execution_count": 32,
   "metadata": {
    "tags": []
   },
   "outputs": [
    {
     "name": "stdout",
     "output_type": "stream",
     "text": [
      "-----------  --------------------------------------\n",
      "Slice Name   AWSDX sc2024-demo FIU 2025-04-14-21-25\n",
      "Slice ID     ea9155c7-7d1d-418c-82c6-c966493f8c34\n",
      "Slice State  StableOK\n",
      "Lease End    2025-04-15 21:25:48 +0000\n",
      "-----------  --------------------------------------\n"
     ]
    }
   ],
   "source": [
    "try:\n",
    "    slice = fablib.get_slice(name=slice_name)\n",
    "    print(f\"{slice}\")\n",
    "except Exception as e:\n",
    "    print(f\"Exception: {e}\")"
   ]
  },
  {
   "cell_type": "markdown",
   "metadata": {
    "tags": []
   },
   "source": [
    "## Print the Node List"
   ]
  },
  {
   "cell_type": "code",
   "execution_count": 33,
   "metadata": {},
   "outputs": [
    {
     "data": {
      "text/html": [
       "<style type=\"text/css\">\n",
       "#T_8b5e7 caption {\n",
       "  text-align: center;\n",
       "  font-size: 150%;\n",
       "  caption-side: top;\n",
       "}\n",
       "#T_8b5e7 th {\n",
       "  text-align: left;\n",
       "}\n",
       "#T_8b5e7 tr:nth-child(even) {\n",
       "  background: #ffffff;\n",
       "  color: #231f20;\n",
       "}\n",
       "#T_8b5e7 tr:nth-child(odd) {\n",
       "  background: #dbf3ff;\n",
       "  color: #231f20;\n",
       "}\n",
       "#T_8b5e7 .level0 {\n",
       "  border: 1px black solid !important;\n",
       "  background: #ffffff;\n",
       "  color: #231f20;\n",
       "}\n",
       "#T_8b5e7_row0_col0, #T_8b5e7_row0_col1, #T_8b5e7_row0_col2, #T_8b5e7_row0_col3, #T_8b5e7_row0_col4, #T_8b5e7_row0_col5, #T_8b5e7_row0_col6, #T_8b5e7_row0_col7, #T_8b5e7_row0_col8, #T_8b5e7_row0_col9, #T_8b5e7_row0_col10, #T_8b5e7_row0_col11, #T_8b5e7_row0_col12, #T_8b5e7_row0_col13, #T_8b5e7_row0_col14, #T_8b5e7_row0_col15, #T_8b5e7_row1_col0, #T_8b5e7_row1_col1, #T_8b5e7_row1_col2, #T_8b5e7_row1_col3, #T_8b5e7_row1_col4, #T_8b5e7_row1_col5, #T_8b5e7_row1_col6, #T_8b5e7_row1_col7, #T_8b5e7_row1_col8, #T_8b5e7_row1_col9, #T_8b5e7_row1_col10, #T_8b5e7_row1_col11, #T_8b5e7_row1_col12, #T_8b5e7_row1_col13, #T_8b5e7_row1_col14, #T_8b5e7_row1_col15 {\n",
       "  text-align: left;\n",
       "  border: 1px #231f20 solid !important;\n",
       "  overwrite: False;\n",
       "}\n",
       "</style>\n",
       "<table id=\"T_8b5e7\">\n",
       "  <caption>Nodes</caption>\n",
       "  <thead>\n",
       "    <tr>\n",
       "      <th id=\"T_8b5e7_level0_col0\" class=\"col_heading level0 col0\" >ID</th>\n",
       "      <th id=\"T_8b5e7_level0_col1\" class=\"col_heading level0 col1\" >Name</th>\n",
       "      <th id=\"T_8b5e7_level0_col2\" class=\"col_heading level0 col2\" >Cores</th>\n",
       "      <th id=\"T_8b5e7_level0_col3\" class=\"col_heading level0 col3\" >RAM</th>\n",
       "      <th id=\"T_8b5e7_level0_col4\" class=\"col_heading level0 col4\" >Disk</th>\n",
       "      <th id=\"T_8b5e7_level0_col5\" class=\"col_heading level0 col5\" >Image</th>\n",
       "      <th id=\"T_8b5e7_level0_col6\" class=\"col_heading level0 col6\" >Image Type</th>\n",
       "      <th id=\"T_8b5e7_level0_col7\" class=\"col_heading level0 col7\" >Host</th>\n",
       "      <th id=\"T_8b5e7_level0_col8\" class=\"col_heading level0 col8\" >Site</th>\n",
       "      <th id=\"T_8b5e7_level0_col9\" class=\"col_heading level0 col9\" >Username</th>\n",
       "      <th id=\"T_8b5e7_level0_col10\" class=\"col_heading level0 col10\" >Management IP</th>\n",
       "      <th id=\"T_8b5e7_level0_col11\" class=\"col_heading level0 col11\" >State</th>\n",
       "      <th id=\"T_8b5e7_level0_col12\" class=\"col_heading level0 col12\" >Error</th>\n",
       "      <th id=\"T_8b5e7_level0_col13\" class=\"col_heading level0 col13\" >SSH Command</th>\n",
       "      <th id=\"T_8b5e7_level0_col14\" class=\"col_heading level0 col14\" >Public SSH Key File</th>\n",
       "      <th id=\"T_8b5e7_level0_col15\" class=\"col_heading level0 col15\" >Private SSH Key File</th>\n",
       "    </tr>\n",
       "  </thead>\n",
       "  <tbody>\n",
       "    <tr>\n",
       "      <td id=\"T_8b5e7_row0_col0\" class=\"data row0 col0\" >335bf561-b93f-4754-9b69-dc8b185314d3</td>\n",
       "      <td id=\"T_8b5e7_row0_col1\" class=\"data row0 col1\" >Node1</td>\n",
       "      <td id=\"T_8b5e7_row0_col2\" class=\"data row0 col2\" >10</td>\n",
       "      <td id=\"T_8b5e7_row0_col3\" class=\"data row0 col3\" >32</td>\n",
       "      <td id=\"T_8b5e7_row0_col4\" class=\"data row0 col4\" >100</td>\n",
       "      <td id=\"T_8b5e7_row0_col5\" class=\"data row0 col5\" >docker_rocky_8</td>\n",
       "      <td id=\"T_8b5e7_row0_col6\" class=\"data row0 col6\" >qcow2</td>\n",
       "      <td id=\"T_8b5e7_row0_col7\" class=\"data row0 col7\" >fiu-w4.fabric-testbed.net</td>\n",
       "      <td id=\"T_8b5e7_row0_col8\" class=\"data row0 col8\" >FIU</td>\n",
       "      <td id=\"T_8b5e7_row0_col9\" class=\"data row0 col9\" >rocky</td>\n",
       "      <td id=\"T_8b5e7_row0_col10\" class=\"data row0 col10\" >131.94.57.51</td>\n",
       "      <td id=\"T_8b5e7_row0_col11\" class=\"data row0 col11\" >Active</td>\n",
       "      <td id=\"T_8b5e7_row0_col12\" class=\"data row0 col12\" ></td>\n",
       "      <td id=\"T_8b5e7_row0_col13\" class=\"data row0 col13\" >ssh -i /home/fabric/work/fabric_config/mcevik_0000100641_sliver -F /home/fabric/work/fabric_config/ssh_config rocky@131.94.57.51</td>\n",
       "      <td id=\"T_8b5e7_row0_col14\" class=\"data row0 col14\" >/home/fabric/work/fabric_config/mcevik_0000100641_sliver.pub</td>\n",
       "      <td id=\"T_8b5e7_row0_col15\" class=\"data row0 col15\" >/home/fabric/work/fabric_config/mcevik_0000100641_sliver</td>\n",
       "    </tr>\n",
       "    <tr>\n",
       "      <td id=\"T_8b5e7_row1_col0\" class=\"data row1 col0\" >9b76dbc8-f2cf-457e-ae5f-a6655e40dfa5</td>\n",
       "      <td id=\"T_8b5e7_row1_col1\" class=\"data row1 col1\" >Node2</td>\n",
       "      <td id=\"T_8b5e7_row1_col2\" class=\"data row1 col2\" >10</td>\n",
       "      <td id=\"T_8b5e7_row1_col3\" class=\"data row1 col3\" >32</td>\n",
       "      <td id=\"T_8b5e7_row1_col4\" class=\"data row1 col4\" >100</td>\n",
       "      <td id=\"T_8b5e7_row1_col5\" class=\"data row1 col5\" >default_debian_12</td>\n",
       "      <td id=\"T_8b5e7_row1_col6\" class=\"data row1 col6\" >qcow2</td>\n",
       "      <td id=\"T_8b5e7_row1_col7\" class=\"data row1 col7\" >fiu-w4.fabric-testbed.net</td>\n",
       "      <td id=\"T_8b5e7_row1_col8\" class=\"data row1 col8\" >FIU</td>\n",
       "      <td id=\"T_8b5e7_row1_col9\" class=\"data row1 col9\" >debian</td>\n",
       "      <td id=\"T_8b5e7_row1_col10\" class=\"data row1 col10\" >131.94.57.58</td>\n",
       "      <td id=\"T_8b5e7_row1_col11\" class=\"data row1 col11\" >Active</td>\n",
       "      <td id=\"T_8b5e7_row1_col12\" class=\"data row1 col12\" ></td>\n",
       "      <td id=\"T_8b5e7_row1_col13\" class=\"data row1 col13\" >ssh -i /home/fabric/work/fabric_config/mcevik_0000100641_sliver -F /home/fabric/work/fabric_config/ssh_config debian@131.94.57.58</td>\n",
       "      <td id=\"T_8b5e7_row1_col14\" class=\"data row1 col14\" >/home/fabric/work/fabric_config/mcevik_0000100641_sliver.pub</td>\n",
       "      <td id=\"T_8b5e7_row1_col15\" class=\"data row1 col15\" >/home/fabric/work/fabric_config/mcevik_0000100641_sliver</td>\n",
       "    </tr>\n",
       "  </tbody>\n",
       "</table>\n"
      ],
      "text/plain": [
       "<pandas.io.formats.style.Styler at 0x7842846079d0>"
      ]
     },
     "metadata": {},
     "output_type": "display_data"
    },
    {
     "name": "stdout",
     "output_type": "stream",
     "text": [
      "<pandas.io.formats.style.Styler object at 0x7842846079d0>\n"
     ]
    }
   ],
   "source": [
    "try:\n",
    "    slice = fablib.get_slice(name=slice_name)\n",
    "\n",
    "    print(f\"{slice.list_nodes()}\")\n",
    "except Exception as e:\n",
    "    print(f\"Exception: {e}\")"
   ]
  },
  {
   "cell_type": "markdown",
   "metadata": {},
   "source": [
    "## Print the Node Details"
   ]
  },
  {
   "cell_type": "code",
   "execution_count": 34,
   "metadata": {},
   "outputs": [
    {
     "name": "stdout",
     "output_type": "stream",
     "text": [
      "-----------------  --------------------------------------------------------------------------------------------------------------------------------\n",
      "ID                 335bf561-b93f-4754-9b69-dc8b185314d3\n",
      "Name               Node1\n",
      "Cores              10\n",
      "RAM                32\n",
      "Disk               100\n",
      "Image              docker_rocky_8\n",
      "Image Type         qcow2\n",
      "Host               fiu-w4.fabric-testbed.net\n",
      "Site               FIU\n",
      "Management IP      131.94.57.51\n",
      "Reservation State  Active\n",
      "Error Message\n",
      "SSH Command        ssh -i /home/fabric/work/fabric_config/mcevik_0000100641_sliver -F /home/fabric/work/fabric_config/ssh_config rocky@131.94.57.51\n",
      "-----------------  --------------------------------------------------------------------------------------------------------------------------------\n",
      "-----------------  ---------------------------------------------------------------------------------------------------------------------------------\n",
      "ID                 9b76dbc8-f2cf-457e-ae5f-a6655e40dfa5\n",
      "Name               Node2\n",
      "Cores              10\n",
      "RAM                32\n",
      "Disk               100\n",
      "Image              default_debian_12\n",
      "Image Type         qcow2\n",
      "Host               fiu-w4.fabric-testbed.net\n",
      "Site               FIU\n",
      "Management IP      131.94.57.58\n",
      "Reservation State  Active\n",
      "Error Message\n",
      "SSH Command        ssh -i /home/fabric/work/fabric_config/mcevik_0000100641_sliver -F /home/fabric/work/fabric_config/ssh_config debian@131.94.57.58\n",
      "-----------------  ---------------------------------------------------------------------------------------------------------------------------------\n"
     ]
    }
   ],
   "source": [
    "try:\n",
    "    slice = fablib.get_slice(name=slice_name)\n",
    "    for node in slice.get_nodes():\n",
    "        print(f\"{node}\")\n",
    "except Exception as e:\n",
    "    print(f\"Exception: {e}\")"
   ]
  },
  {
   "cell_type": "markdown",
   "metadata": {},
   "source": [
    "## Print the Interfaces"
   ]
  },
  {
   "cell_type": "markdown",
   "metadata": {},
   "source": [
    "You should see 2 interfaces."
   ]
  },
  {
   "cell_type": "code",
   "execution_count": 35,
   "metadata": {},
   "outputs": [
    {
     "data": {
      "text/html": [
       "<style type=\"text/css\">\n",
       "#T_245cb caption {\n",
       "  text-align: center;\n",
       "  font-size: 150%;\n",
       "  caption-side: top;\n",
       "}\n",
       "#T_245cb th {\n",
       "  text-align: left;\n",
       "}\n",
       "#T_245cb tr:nth-child(even) {\n",
       "  background: #ffffff;\n",
       "  color: #231f20;\n",
       "}\n",
       "#T_245cb tr:nth-child(odd) {\n",
       "  background: #dbf3ff;\n",
       "  color: #231f20;\n",
       "}\n",
       "#T_245cb .level0 {\n",
       "  border: 1px black solid !important;\n",
       "  background: #ffffff;\n",
       "  color: #231f20;\n",
       "}\n",
       "#T_245cb_row0_col0, #T_245cb_row0_col1, #T_245cb_row0_col2, #T_245cb_row0_col3, #T_245cb_row0_col4, #T_245cb_row0_col5, #T_245cb_row0_col6, #T_245cb_row0_col7, #T_245cb_row0_col8, #T_245cb_row0_col9, #T_245cb_row0_col10, #T_245cb_row0_col11, #T_245cb_row0_col12, #T_245cb_row1_col0, #T_245cb_row1_col1, #T_245cb_row1_col2, #T_245cb_row1_col3, #T_245cb_row1_col4, #T_245cb_row1_col5, #T_245cb_row1_col6, #T_245cb_row1_col7, #T_245cb_row1_col8, #T_245cb_row1_col9, #T_245cb_row1_col10, #T_245cb_row1_col11, #T_245cb_row1_col12 {\n",
       "  text-align: left;\n",
       "  border: 1px #231f20 solid !important;\n",
       "  overwrite: False;\n",
       "}\n",
       "</style>\n",
       "<table id=\"T_245cb\">\n",
       "  <caption>Interfaces</caption>\n",
       "  <thead>\n",
       "    <tr>\n",
       "      <th id=\"T_245cb_level0_col0\" class=\"col_heading level0 col0\" >Name</th>\n",
       "      <th id=\"T_245cb_level0_col1\" class=\"col_heading level0 col1\" >Short Name</th>\n",
       "      <th id=\"T_245cb_level0_col2\" class=\"col_heading level0 col2\" >Node</th>\n",
       "      <th id=\"T_245cb_level0_col3\" class=\"col_heading level0 col3\" >Network</th>\n",
       "      <th id=\"T_245cb_level0_col4\" class=\"col_heading level0 col4\" >Bandwidth</th>\n",
       "      <th id=\"T_245cb_level0_col5\" class=\"col_heading level0 col5\" >Mode</th>\n",
       "      <th id=\"T_245cb_level0_col6\" class=\"col_heading level0 col6\" >VLAN</th>\n",
       "      <th id=\"T_245cb_level0_col7\" class=\"col_heading level0 col7\" >MAC</th>\n",
       "      <th id=\"T_245cb_level0_col8\" class=\"col_heading level0 col8\" >Physical Device</th>\n",
       "      <th id=\"T_245cb_level0_col9\" class=\"col_heading level0 col9\" >Device</th>\n",
       "      <th id=\"T_245cb_level0_col10\" class=\"col_heading level0 col10\" >IP Address</th>\n",
       "      <th id=\"T_245cb_level0_col11\" class=\"col_heading level0 col11\" >Numa Node</th>\n",
       "      <th id=\"T_245cb_level0_col12\" class=\"col_heading level0 col12\" >Switch Port</th>\n",
       "    </tr>\n",
       "  </thead>\n",
       "  <tbody>\n",
       "    <tr>\n",
       "      <td id=\"T_245cb_row0_col0\" class=\"data row0 col0\" >Node1-SharedNIC1-p1</td>\n",
       "      <td id=\"T_245cb_row0_col1\" class=\"data row0 col1\" >p1</td>\n",
       "      <td id=\"T_245cb_row0_col2\" class=\"data row0 col2\" >Node1</td>\n",
       "      <td id=\"T_245cb_row0_col3\" class=\"data row0 col3\" >l2-bridge</td>\n",
       "      <td id=\"T_245cb_row0_col4\" class=\"data row0 col4\" >100</td>\n",
       "      <td id=\"T_245cb_row0_col5\" class=\"data row0 col5\" >config</td>\n",
       "      <td id=\"T_245cb_row0_col6\" class=\"data row0 col6\" ></td>\n",
       "      <td id=\"T_245cb_row0_col7\" class=\"data row0 col7\" >06:8D:B4:9B:91:AF</td>\n",
       "      <td id=\"T_245cb_row0_col8\" class=\"data row0 col8\" >enp7s0</td>\n",
       "      <td id=\"T_245cb_row0_col9\" class=\"data row0 col9\" >enp7s0</td>\n",
       "      <td id=\"T_245cb_row0_col10\" class=\"data row0 col10\" >None</td>\n",
       "      <td id=\"T_245cb_row0_col11\" class=\"data row0 col11\" >4</td>\n",
       "      <td id=\"T_245cb_row0_col12\" class=\"data row0 col12\" >HundredGigE0/0/0/11</td>\n",
       "    </tr>\n",
       "    <tr>\n",
       "      <td id=\"T_245cb_row1_col0\" class=\"data row1 col0\" >Node2-SharedNIC2-p1</td>\n",
       "      <td id=\"T_245cb_row1_col1\" class=\"data row1 col1\" >p1</td>\n",
       "      <td id=\"T_245cb_row1_col2\" class=\"data row1 col2\" >Node2</td>\n",
       "      <td id=\"T_245cb_row1_col3\" class=\"data row1 col3\" >l2-bridge</td>\n",
       "      <td id=\"T_245cb_row1_col4\" class=\"data row1 col4\" >100</td>\n",
       "      <td id=\"T_245cb_row1_col5\" class=\"data row1 col5\" >config</td>\n",
       "      <td id=\"T_245cb_row1_col6\" class=\"data row1 col6\" ></td>\n",
       "      <td id=\"T_245cb_row1_col7\" class=\"data row1 col7\" >0A:FB:6A:2F:EC:A2</td>\n",
       "      <td id=\"T_245cb_row1_col8\" class=\"data row1 col8\" >enp7s0</td>\n",
       "      <td id=\"T_245cb_row1_col9\" class=\"data row1 col9\" >enp7s0</td>\n",
       "      <td id=\"T_245cb_row1_col10\" class=\"data row1 col10\" >fe80::8fb:6aff:fe2f:eca2</td>\n",
       "      <td id=\"T_245cb_row1_col11\" class=\"data row1 col11\" >4</td>\n",
       "      <td id=\"T_245cb_row1_col12\" class=\"data row1 col12\" >HundredGigE0/0/0/11</td>\n",
       "    </tr>\n",
       "  </tbody>\n",
       "</table>\n"
      ],
      "text/plain": [
       "<pandas.io.formats.style.Styler at 0x78428447add0>"
      ]
     },
     "metadata": {},
     "output_type": "display_data"
    },
    {
     "name": "stdout",
     "output_type": "stream",
     "text": [
      "<pandas.io.formats.style.Styler object at 0x78428447add0>\n"
     ]
    }
   ],
   "source": [
    "try:\n",
    "    slice = fablib.get_slice(name=slice_name)\n",
    "    \n",
    "    print(f\"{slice.list_interfaces()}\")\n",
    "except Exception as e:\n",
    "    print(f\"Exception: {e}\")"
   ]
  },
  {
   "cell_type": "markdown",
   "metadata": {
    "tags": []
   },
   "source": [
    "## Step 6: Configure interfaces, test reachability"
   ]
  },
  {
   "cell_type": "markdown",
   "metadata": {},
   "source": [
    "##  Configure IP Addresses\n",
    "\n",
    "### Pick a Subnet\n",
    "\n",
    "Create a subnet and list of available IP addresses. You can use either IPv4 or IPv6 subnets and addresses."
   ]
  },
  {
   "cell_type": "code",
   "execution_count": 36,
   "metadata": {},
   "outputs": [],
   "source": [
    "from ipaddress import ip_address, IPv4Address, IPv6Address, IPv4Network, IPv6Network\n",
    "\n",
    "try:\n",
    "    subnet = IPv4Network(\"192.168.1.0/24\")\n",
    "    available_ips = list(subnet)[1:]\n",
    "except Exception as e:\n",
    "    print(f\"Exception: {e}\")"
   ]
  },
  {
   "cell_type": "markdown",
   "metadata": {},
   "source": [
    "### Configure Node1\n",
    "\n",
    "Get the node and the interface you wish to configure.  You can use `node.get_interface` to get the interface that is connected to the specified network.  Then `pop` an IP address from the list of available IPs and call `iface.ip_addr_add` to set the IP and subnet.  \n",
    "\n",
    "Optionally, use the `node.execute()` method to show the results of adding the IP address."
   ]
  },
  {
   "cell_type": "code",
   "execution_count": 37,
   "metadata": {},
   "outputs": [
    {
     "name": "stdout",
     "output_type": "stream",
     "text": [
      "3: enp7s0: <BROADCAST,MULTICAST,UP,LOWER_UP> mtu 1500 qdisc mq state UP group default qlen 1000\n",
      "    link/ether 06:8d:b4:9b:91:af brd ff:ff:ff:ff:ff:ff\n",
      "    inet 192.168.1.1/24 scope global enp7s0\n",
      "       valid_lft forever preferred_lft forever\n",
      "3: enp7s0: <BROADCAST,MULTICAST,UP,LOWER_UP> mtu 1500 qdisc mq state UP group default qlen 1000\n",
      "    link/ether 06:8d:b4:9b:91:af brd ff:ff:ff:ff:ff:ff\n",
      "    inet 192.168.1.1/24 scope global enp7s0\n",
      "       valid_lft forever preferred_lft forever\n",
      "\n"
     ]
    }
   ],
   "source": [
    "try:\n",
    "    node1 = slice.get_node(name=name1)        \n",
    "    node1_iface = node1.get_interface(network_name=network_name) \n",
    "    node1_addr = available_ips.pop(0)\n",
    "    node1_iface.ip_addr_add(addr=node1_addr, subnet=subnet)\n",
    "    \n",
    "    stdout, stderr = node1.execute(f'ip addr show {node1_iface.get_os_interface()}')\n",
    "    print (stdout)\n",
    "    \n",
    "except Exception as e:\n",
    "    print(f\"Exception: {e}\")"
   ]
  },
  {
   "cell_type": "markdown",
   "metadata": {},
   "source": [
    "### Configure Node2\n",
    "\n",
    "Repeat the steps to add the next available IP to the second node."
   ]
  },
  {
   "cell_type": "code",
   "execution_count": 38,
   "metadata": {},
   "outputs": [
    {
     "name": "stdout",
     "output_type": "stream",
     "text": [
      "3: enp7s0: <BROADCAST,MULTICAST,UP,LOWER_UP> mtu 1500 qdisc mq state UP group default qlen 1000\n",
      "    link/ether 0a:fb:6a:2f:ec:a2 brd ff:ff:ff:ff:ff:ff\n",
      "    inet 192.168.1.2/24 scope global enp7s0\n",
      "       valid_lft forever preferred_lft forever\n",
      "    inet6 fe80::8fb:6aff:fe2f:eca2/64 scope link \n",
      "       valid_lft forever preferred_lft forever\n",
      "3: enp7s0: <BROADCAST,MULTICAST,UP,LOWER_UP> mtu 1500 qdisc mq state UP group default qlen 1000\n",
      "    link/ether 0a:fb:6a:2f:ec:a2 brd ff:ff:ff:ff:ff:ff\n",
      "    inet 192.168.1.2/24 scope global enp7s0\n",
      "       valid_lft forever preferred_lft forever\n",
      "    inet6 fe80::8fb:6aff:fe2f:eca2/64 scope link \n",
      "       valid_lft forever preferred_lft forever\n",
      "\n"
     ]
    }
   ],
   "source": [
    "try:\n",
    "    node2 = slice.get_node(name=name2)        \n",
    "    node2_iface = node2.get_interface(network_name=network_name)  \n",
    "    node2_addr = available_ips.pop(0)\n",
    "    node2_iface.ip_addr_add(addr=node2_addr, subnet=subnet)\n",
    "    \n",
    "    stdout, stderr = node2.execute(f'ip addr show {node2_iface.get_os_interface()}')\n",
    "    print (stdout)\n",
    "    \n",
    "except Exception as e:\n",
    "    print(f\"Exception: {e}\")"
   ]
  },
  {
   "cell_type": "markdown",
   "metadata": {},
   "source": [
    "### Test reachability\n",
    "\n",
    "Test ping between interfaces, observe successful output.\n"
   ]
  },
  {
   "cell_type": "code",
   "execution_count": 39,
   "metadata": {},
   "outputs": [
    {
     "name": "stdout",
     "output_type": "stream",
     "text": [
      "PING 192.168.1.2 (192.168.1.2) 56(84) bytes of data.\n",
      "64 bytes from 192.168.1.2: icmp_seq=1 ttl=64 time=3.62 ms\n",
      "64 bytes from 192.168.1.2: icmp_seq=2 ttl=64 time=0.116 ms\n",
      "64 bytes from 192.168.1.2: icmp_seq=3 ttl=64 time=0.092 ms\n",
      "64 bytes from 192.168.1.2: icmp_seq=4 ttl=64 time=0.091 ms\n",
      "64 bytes from 192.168.1.2: icmp_seq=5 ttl=64 time=0.098 ms\n",
      "\n",
      "--- 192.168.1.2 ping statistics ---\n",
      "5 packets transmitted, 5 received, 0% packet loss, time 4061ms\n",
      "rtt min/avg/max/mdev = 0.091/0.804/3.624/1.410 ms\n",
      "PING 192.168.1.2 (192.168.1.2) 56(84) bytes of data.\n",
      "64 bytes from 192.168.1.2: icmp_seq=1 ttl=64 time=3.62 ms\n",
      "64 bytes from 192.168.1.2: icmp_seq=2 ttl=64 time=0.116 ms\n",
      "64 bytes from 192.168.1.2: icmp_seq=3 ttl=64 time=0.092 ms\n",
      "64 bytes from 192.168.1.2: icmp_seq=4 ttl=64 time=0.091 ms\n",
      "64 bytes from 192.168.1.2: icmp_seq=5 ttl=64 time=0.098 ms\n",
      "\n",
      "--- 192.168.1.2 ping statistics ---\n",
      "5 packets transmitted, 5 received, 0% packet loss, time 4061ms\n",
      "rtt min/avg/max/mdev = 0.091/0.804/3.624/1.410 ms\n",
      "\n",
      "\n"
     ]
    }
   ],
   "source": [
    "try:\n",
    "    node1 = slice.get_node(name=name1)        \n",
    "\n",
    "    stdout, stderr = node1.execute(f'ping -c 5 {node2_addr}')\n",
    "    print (stdout)\n",
    "    print (stderr)\n",
    "    \n",
    "except Exception as e:\n",
    "    print(f\"Exception: {e}\")"
   ]
  },
  {
   "cell_type": "markdown",
   "metadata": {},
   "source": [
    "## Step 7: Execute sc24-demo\n",
    "\n",
    "- https://sdx-docs.readthedocs.io/en/latest/sdx_deploy_single_server.html#\n"
   ]
  },
  {
   "cell_type": "markdown",
   "metadata": {},
   "source": [
    "### Select the node \n",
    "\n",
    "- node1 : created with the docker_rocky_8 image that already has docker installed. No further action needed for docker installation\n",
    "- node2 : created with the default_debian_12 image.  Install docker -> https://docs.docker.com/engine/install/debian/\n"
   ]
  },
  {
   "cell_type": "code",
   "execution_count": 42,
   "metadata": {
    "editable": true,
    "scrolled": true,
    "slideshow": {
     "slide_type": ""
    },
    "tags": []
   },
   "outputs": [
    {
     "name": "stdout",
     "output_type": "stream",
     "text": [
      "--- Use Node: -----------------  --------------------------------------------------------------------------------------------------------------------------------\n",
      "ID                 335bf561-b93f-4754-9b69-dc8b185314d3\n",
      "Name               Node1\n",
      "Cores              10\n",
      "RAM                32\n",
      "Disk               100\n",
      "Image              docker_rocky_8\n",
      "Image Type         qcow2\n",
      "Host               fiu-w4.fabric-testbed.net\n",
      "Site               FIU\n",
      "Management IP      131.94.57.51\n",
      "Reservation State  Active\n",
      "Error Message\n",
      "SSH Command        ssh -i /home/fabric/work/fabric_config/mcevik_0000100641_sliver -F /home/fabric/work/fabric_config/ssh_config rocky@131.94.57.51\n",
      "-----------------  --------------------------------------------------------------------------------------------------------------------------------\n",
      "Executing sudo dnf install -y jq\n",
      "Last metadata expiration check: 0:03:09 ago on Mon Apr 14 21:42:51 2025.\n",
      "Package jq-1.6-9.el8_10.x86_64 is already installed.\n",
      "Dependencies resolved.\n",
      "Nothing to do.\n",
      "Complete!\n",
      "Done\n"
     ]
    }
   ],
   "source": [
    "\n",
    "node = node1\n",
    "#node = node2\n",
    "\n",
    "if node == node1:\n",
    "    print(f'--- Use Node: {node}')\n",
    "    commands = list()\n",
    "    commands.append(f'sudo dnf install -y jq')\n",
    "\n",
    "elif node == node2: \n",
    "    print(f'--- Use Node: {node}')\n",
    "    commands = list()\n",
    "    commands.append(f'sudo apt-get update')\n",
    "    commands.append(f'sudo apt-get -y install ca-certificates curl')\n",
    "    commands.append(f'sudo install -m 0755 -d /etc/apt/keyrings')\n",
    "    commands.append(f'sudo curl -fsSL https://download.docker.com/linux/debian/gpg -o /etc/apt/keyrings/docker.asc')\n",
    "    commands.append(f'sudo chmod a+r /etc/apt/keyrings/docker.asc')\n",
    "    commands.append(f'echo \"deb [arch=$(dpkg --print-architecture) signed-by=/etc/apt/keyrings/docker.asc] https://download.docker.com/linux/debian $(. /etc/os-release && echo \"$VERSION_CODENAME\") stable\" | sudo tee /etc/apt/sources.list.d/docker.list > /dev/null')\n",
    "    commands.append(f'sudo apt-get update')\n",
    "    commands.append(f'sudo apt-get -y install docker-ce docker-ce-cli containerd.io docker-buildx-plugin docker-compose-plugin')\n",
    "    commands.append(f'sudo groupadd docker')\n",
    "    commands.append(f'sudo usermod -aG docker $USER')\n",
    "    commands.append(f'sudo apt-get install -y jq')\n",
    "\n",
    "\n",
    "for command in commands:\n",
    "    print(f'Executing {command}')\n",
    "    stdout, stderr = node.execute(command)\n",
    "    \n",
    "print('Done')\n"
   ]
  },
  {
   "cell_type": "markdown",
   "metadata": {},
   "source": [
    "#### Check Management IP address (IPv4, IPv6)"
   ]
  },
  {
   "cell_type": "code",
   "execution_count": 43,
   "metadata": {},
   "outputs": [],
   "source": [
    "import ipaddress\n",
    "\n",
    "def check_ip_version(ip_address):\n",
    "    try:\n",
    "        ip_object = ipaddress.ip_address(ip_address)\n",
    "        if isinstance(ip_object, ipaddress.IPv4Address):\n",
    "            return \"IPv4\"\n",
    "        elif isinstance(ip_object, ipaddress.IPv6Address):\n",
    "            return \"IPv6\"\n",
    "    except ValueError:\n",
    "        return \"Invalid IP address\"\n"
   ]
  },
  {
   "cell_type": "markdown",
   "metadata": {},
   "source": [
    "### 1. Setup\n"
   ]
  },
  {
   "cell_type": "markdown",
   "metadata": {
    "editable": true,
    "slideshow": {
     "slide_type": ""
    },
    "tags": []
   },
   "source": [
    "<div class=\"alert alert-block alert-info\">\n",
    "<b>Testing - Declarations > </b> SC24 Demo\n",
    "</div>"
   ]
  },
  {
   "cell_type": "code",
   "execution_count": 70,
   "metadata": {},
   "outputs": [],
   "source": [
    "\n",
    "sdx_work_repo = 'https://github.com/atlanticwave-sdx/sdx-sc24-demo.git'\n",
    "sdx_work_branch = 'main'\n",
    "repo_dir = 'awsdx/sdx-sc24-demo'\n",
    "docker_compose_dir = repo_dir\n"
   ]
  },
  {
   "cell_type": "markdown",
   "metadata": {},
   "source": [
    "### 2. Checkout"
   ]
  },
  {
   "cell_type": "code",
   "execution_count": 53,
   "metadata": {
    "editable": true,
    "scrolled": true,
    "slideshow": {
     "slide_type": ""
    },
    "tags": []
   },
   "outputs": [
    {
     "name": "stdout",
     "output_type": "stream",
     "text": [
      "Executing [ ! -d ~/awsdx/sdx-sc24-demo ] && mkdir -p ~/awsdx/sdx-sc24-demo\n",
      "Executing cd ~/awsdx/sdx-sc24-demo && git init && git remote add origin https://github.com/atlanticwave-sdx/sdx-sc24-demo.git\n",
      "Initialized empty Git repository in /home/rocky/awsdx/sdx-sc24-demo/.git/\n",
      "\u001b[31m hint: Using 'master' as the name for the initial branch. This default branch name\n",
      "hint: is subject to change. To configure the initial branch name to use in all\n",
      "hint: of your new repositories, which will suppress this warning, call:\n",
      "hint: \n",
      "hint: \tgit config --global init.defaultBranch <name>\n",
      "hint: \n",
      "hint: Names commonly chosen instead of 'master' are 'main', 'trunk' and\n",
      "hint: 'development'. The just-created branch can be renamed via this command:\n",
      "hint: \n",
      "hint: \tgit branch -m <name>\n",
      " \u001b[0mExecuting cd ~/awsdx/sdx-sc24-demo && git fetch origin\n",
      "\u001b[31m From https://github.com/atlanticwave-sdx/sdx-sc24-demo\n",
      " * [new branch]      main                   -> origin/main\n",
      " * [new branch]      mininet-service-update -> origin/mininet-service-update\n",
      " \u001b[0mExecuting cd ~/awsdx/sdx-sc24-demo && git checkout mininet-service-update\n",
      "branch 'mininet-service-update' set up to track 'origin/mininet-service-update'.\n",
      "\u001b[31m Switched to a new branch 'mininet-service-update'\n",
      " \u001b[0mDone\n"
     ]
    }
   ],
   "source": [
    "# Testing - checkout\n",
    "\n",
    "commands1 = list()\n",
    "commands1.append(f'[ ! -d ~/{repo_dir} ] && mkdir -p ~/{repo_dir}')\n",
    "commands1.append(f'cd ~/{repo_dir} && git init && git remote add origin {sdx_work_repo}')\n",
    "commands1.append(f'cd ~/{repo_dir} && git fetch origin')\n",
    "commands1.append(f'cd ~/{repo_dir} && git checkout {sdx_work_branch}')\n",
    "\n",
    "\n",
    "#\n",
    "# Commenting out the IPv6 customization to re-use when needed\n",
    "#\n",
    "\n",
    "# Testing - customize for IPv6\n",
    "\n",
    "###########   INFORMATIVE  - Begin  ############\n",
    "# Add the following block to the docker-compose.yml\n",
    "# Ref: https://docs.docker.com/reference/compose-file/networks/#the-default-network\n",
    "#\n",
    "#networks:\n",
    "#   default:\n",
    "#     name: sdxnet\n",
    "#     enable_ipv6: true\n",
    "#     ipam:\n",
    "#       config:\n",
    "#         - subnet: 2001:db8::/64\n",
    "###########   INFORMATIVE   - End  ############\n",
    "\n",
    "# Comment out\n",
    "#management_ip = node.get_management_ip()\n",
    "\n",
    "#if check_ip_version(management_ip) == 'IPv6':\n",
    "#    commands1.append(f'cd ~/{repo_dir}/data-plane && echo -e \"networks:\\n  default:\\n    name: sdxnet\\n    enable_ipv6: true\\n    ipam:\\n      config:\\n        - subnet: 2001:db8::/64\" | tee -a docker-compose.yml > /dev/null')\n",
    "\n",
    "\n",
    "for command in commands1:\n",
    "    print(f'Executing {command}')\n",
    "    stdout, stderr = node.execute(command)\n",
    "    \n",
    "print('Done')"
   ]
  },
  {
   "cell_type": "markdown",
   "metadata": {},
   "source": [
    "### 3. Start"
   ]
  },
  {
   "cell_type": "markdown",
   "metadata": {},
   "source": [
    "##### ***SC24-Demo***\n"
   ]
  },
  {
   "cell_type": "code",
   "execution_count": 54,
   "metadata": {
    "editable": true,
    "scrolled": true,
    "slideshow": {
     "slide_type": ""
    },
    "tags": []
   },
   "outputs": [
    {
     "name": "stdout",
     "output_type": "stream",
     "text": [
      "Executing [ ! -d ~/awsdx/sdx-sc24-demo ] && mkdir -p ~/awsdx/sdx-sc24-demo\n",
      "Executing cd ~/awsdx/sdx-sc24-demo && git init && git remote add origin https://github.com/atlanticwave-sdx/sdx-sc24-demo.git\n",
      "Reinitialized existing Git repository in /home/rocky/awsdx/sdx-sc24-demo/.git/\n",
      "\u001b[31m error: remote origin already exists.\n",
      " \u001b[0mExecuting cd ~/awsdx/sdx-sc24-demo && git fetch origin\n",
      "Executing cd ~/awsdx/sdx-sc24-demo && git checkout mininet-service-update\n",
      "Your branch is up to date with 'origin/mininet-service-update'.\n",
      "\u001b[31m Already on 'mininet-service-update'\n",
      " \u001b[0mExecuting sudo systemctl start docker\n",
      "Executing cd ~/awsdx/sdx-sc24-demo && docker compose up -d &> /tmp/docker-compose.log\n",
      "Executing cd ~/awsdx/sdx-sc24-demo && docker compose ps -a\n",
      "NAME                              IMAGE                         COMMAND                  SERVICE           CREATED          STATUS                   PORTS\n",
      "sdx-sc24-demo-amlight-1           amlight/kytos-sdx:latest      \"/bin/bash -x -c '# …\"   amlight           9 seconds ago    Up 3 seconds             6653/tcp, 8181/tcp\n",
      "sdx-sc24-demo-amlight-lc-1        awsdx/sdx-lc:latest           \"/bin/bash -x -c '# …\"   amlight-lc        9 seconds ago    Up 1 second              \n",
      "sdx-sc24-demo-esnet-1             amlight/kytos-sdx:latest      \"/bin/bash -x -c '# …\"   esnet             9 seconds ago    Up 3 seconds             6653/tcp, 8181/tcp\n",
      "sdx-sc24-demo-esnet-lc-1          awsdx/sdx-lc:latest           \"/bin/bash -x -c '# …\"   esnet-lc          9 seconds ago    Up 2 seconds             \n",
      "sdx-sc24-demo-geant_france-1      amlight/kytos-sdx:latest      \"/bin/bash -x -c '# …\"   geant_france      9 seconds ago    Up 3 seconds             6653/tcp, 8181/tcp\n",
      "sdx-sc24-demo-geant_france-lc-1   awsdx/sdx-lc:latest           \"/bin/bash -x -c '# …\"   geant_france-lc   9 seconds ago    Up 1 second              \n",
      "sdx-sc24-demo-geant_london-1      amlight/kytos-sdx:latest      \"/bin/bash -x -c '# …\"   geant_london      9 seconds ago    Up 3 seconds             6653/tcp, 8181/tcp\n",
      "sdx-sc24-demo-geant_london-lc-1   awsdx/sdx-lc:latest           \"/bin/bash -x -c '# …\"   geant_london-lc   9 seconds ago    Up 2 seconds             \n",
      "sdx-sc24-demo-internet2-1         amlight/kytos-sdx:latest      \"/bin/bash -x -c '# …\"   internet2         9 seconds ago    Up 3 seconds             6653/tcp, 8181/tcp\n",
      "sdx-sc24-demo-internet2-lc-1      awsdx/sdx-lc:latest           \"/bin/bash -x -c '# …\"   internet2-lc      9 seconds ago    Up 1 second              \n",
      "sdx-sc24-demo-lhc-1               amlight/kytos-sdx:latest      \"/bin/bash -x -c '# …\"   lhc               9 seconds ago    Up 3 seconds             6653/tcp, 8181/tcp\n",
      "sdx-sc24-demo-lhc-lc-1            awsdx/sdx-lc:latest           \"/bin/bash -x -c '# …\"   lhc-lc            9 seconds ago    Up 2 seconds             \n",
      "sdx-sc24-demo-mininet-1           italovalcy/mininet:latest     \"/bin/bash -x -c 'se…\"   mininet           10 seconds ago   Up 9 seconds             6633/tcp, 6640/tcp, 6653/tcp\n",
      "sdx-sc24-demo-mongo-1             mongo:7.0                     \"docker-entrypoint.s…\"   mongo             10 seconds ago   Up 9 seconds (healthy)   27017/tcp\n",
      "sdx-sc24-demo-mq1-1               rabbitmq:latest               \"docker-entrypoint.s…\"   mq1               10 seconds ago   Up 9 seconds (healthy)   4369/tcp, 5671-5672/tcp, 15691-15692/tcp, 25672/tcp\n",
      "sdx-sc24-demo-sax-1               amlight/kytos-sdx:latest      \"/bin/bash -x -c '# …\"   sax               9 seconds ago    Up 3 seconds             6653/tcp, 8181/tcp\n",
      "sdx-sc24-demo-sax-lc-1            awsdx/sdx-lc:latest           \"/bin/bash -x -c '# …\"   sax-lc            9 seconds ago    Up 2 seconds             \n",
      "sdx-sc24-demo-sdx-controller-1    awsdx/sdx-controller:latest   \"/bin/bash -x -c '# …\"   sdx-controller    9 seconds ago    Up 2 seconds             8080/tcp\n",
      "sdx-sc24-demo-tenet-1             amlight/kytos-sdx:latest      \"/bin/bash -x -c '# …\"   tenet             9 seconds ago    Up 3 seconds             6653/tcp, 8181/tcp\n",
      "sdx-sc24-demo-tenet-lc-1          awsdx/sdx-lc:latest           \"/bin/bash -x -c '# …\"   tenet-lc          9 seconds ago    Up 1 second              \n",
      "Done\n"
     ]
    }
   ],
   "source": [
    "\n",
    "commands2 = list()\n",
    "commands2.append(f'sudo systemctl start docker')\n",
    "commands2.append(f'cd ~/{repo_dir} && docker compose up -d &> /tmp/docker-compose.log')\n",
    "commands2.append(f'cd ~/{repo_dir} && docker compose ps -a')\n",
    "\n",
    "\n",
    "for command in commands1 + commands2:\n",
    "    print(f'Executing {command}')\n",
    "    stdout, stderr = node.execute(command)\n",
    "    \n",
    "print('Done')\n"
   ]
  },
  {
   "cell_type": "markdown",
   "metadata": {},
   "source": [
    "### 4. Stop (Optional)"
   ]
  },
  {
   "cell_type": "code",
   "execution_count": 55,
   "metadata": {
    "editable": true,
    "scrolled": true,
    "slideshow": {
     "slide_type": ""
    },
    "tags": []
   },
   "outputs": [
    {
     "name": "stdout",
     "output_type": "stream",
     "text": [
      "Executing cd ~/awsdx/sdx-sc24-demo && docker compose down\n",
      "Done\n"
     ]
    }
   ],
   "source": [
    "\n",
    "commands = list()\n",
    "commands.append(f'cd ~/{docker_compose_dir} && docker compose down')\n",
    "\n",
    "\n",
    "for command in commands:\n",
    "    print(f'Executing {command}')\n",
    "    ###stdout, stderr = node.execute(command)\n",
    "    \n",
    "print('Done')\n"
   ]
  },
  {
   "cell_type": "markdown",
   "metadata": {},
   "source": [
    "### 5. Prune system  (Optional)"
   ]
  },
  {
   "cell_type": "markdown",
   "metadata": {},
   "source": [
    "##### 5.1 Prune docker"
   ]
  },
  {
   "cell_type": "code",
   "execution_count": 56,
   "metadata": {
    "editable": true,
    "scrolled": true,
    "slideshow": {
     "slide_type": ""
    },
    "tags": []
   },
   "outputs": [
    {
     "name": "stdout",
     "output_type": "stream",
     "text": [
      "Executing cd ~/awsdx/sdx-sc24-demo && docker system prune -a -f --volumes\n",
      "Done\n"
     ]
    }
   ],
   "source": [
    "\n",
    "commands = list()\n",
    "commands.append(f'cd ~/{docker_compose_dir} && docker system prune -a -f --volumes')\n",
    "\n",
    "\n",
    "for command in commands:\n",
    "    print(f'Executing {command}')\n",
    "    ###stdout, stderr = node.execute(command)\n",
    "    \n",
    "print('Done')\n"
   ]
  },
  {
   "cell_type": "markdown",
   "metadata": {},
   "source": [
    "##### 5.2 Prune directory"
   ]
  },
  {
   "cell_type": "code",
   "execution_count": 57,
   "metadata": {
    "editable": true,
    "scrolled": true,
    "slideshow": {
     "slide_type": ""
    },
    "tags": []
   },
   "outputs": [
    {
     "name": "stdout",
     "output_type": "stream",
     "text": [
      "Executing rm -rf ~/awsdx/sdx-sc24-demo\n",
      "Done\n"
     ]
    }
   ],
   "source": [
    "\n",
    "commands = list()\n",
    "commands.append(f'rm -rf ~/{repo_dir}')\n",
    "\n",
    "\n",
    "for command in commands:\n",
    "    print(f'Executing {command}')\n",
    "    ###stdout, stderr = node.execute(command)\n",
    "    \n",
    "print('Done')\n"
   ]
  },
  {
   "cell_type": "markdown",
   "metadata": {},
   "source": [
    "### 6. Execute Tests"
   ]
  },
  {
   "cell_type": "markdown",
   "metadata": {},
   "source": [
    "##### 6.1 Set locations"
   ]
  },
  {
   "cell_type": "code",
   "execution_count": 64,
   "metadata": {
    "editable": true,
    "slideshow": {
     "slide_type": ""
    },
    "tags": []
   },
   "outputs": [],
   "source": [
    "\n",
    "remote_directory_path = repo_dir\n",
    "script_dir = '~/' + remote_directory_path + '/scripts'\n"
   ]
  },
  {
   "cell_type": "markdown",
   "metadata": {},
   "source": [
    "##### 6.2 Create L2VPN"
   ]
  },
  {
   "cell_type": "code",
   "execution_count": 68,
   "metadata": {},
   "outputs": [
    {
     "name": "stdout",
     "output_type": "stream",
     "text": [
      "{\n",
      "  \"reason\": \"Connection published\",\n",
      "  \"service_id\": \"156a0c7e-d92e-4d1f-a451-ef97f5890d33\",\n",
      "  \"status\": \"UNDER_PROVISIONING\"\n",
      "}\n",
      "\u001b[31m   % Total    % Received % Xferd  Average Speed   Time    Time     Time  Current\n",
      "                                 Dload  Upload   Total   Spent    Left  Speed\n",
      "100   315  100   129  100   186    941   1357 --:--:-- --:--:-- --:--:--  2299\n",
      " \u001b[0m"
     ]
    }
   ],
   "source": [
    "stdout, stderr = node.execute(f'cd {remote_directory_path} && ./scripts/create-l2vpn.sh')"
   ]
  },
  {
   "cell_type": "markdown",
   "metadata": {},
   "source": [
    "##### 6.3 Test L2VPN"
   ]
  },
  {
   "cell_type": "code",
   "execution_count": 69,
   "metadata": {
    "editable": true,
    "scrolled": true,
    "slideshow": {
     "slide_type": ""
    },
    "tags": []
   },
   "outputs": [
    {
     "name": "stdout",
     "output_type": "stream",
     "text": [
      "Script started, file is /dev/null\n",
      "Configuring hostA (geantFRH1)...\n",
      "Configuring hostZ (tenetH1)...\n",
      "Learning MAC addresses...\n",
      "ping test HostA - HostB\n",
      "+ docker exec -it 6e09a27dcc43a2d71be95f7391bf6b062eeb55c572bfac3f05846165a99df021 bash -c 'mnexec -a 170 ping6 -c5 -i0.2 2001:db8:4092:4093::2'\n",
      "PING 2001:db8:4092:4093::2(2001:db8:4092:4093::2) 56 data bytes\n",
      "64 bytes from 2001:db8:4092:4093::2: icmp_seq=1 ttl=64 time=0.169 ms\n",
      "64 bytes from 2001:db8:4092:4093::2: icmp_seq=2 ttl=64 time=0.075 ms\n",
      "64 bytes from 2001:db8:4092:4093::2: icmp_seq=3 ttl=64 time=0.068 ms\n",
      "64 bytes from 2001:db8:4092:4093::2: icmp_seq=4 ttl=64 time=0.033 ms\n",
      "64 bytes from 2001:db8:4092:4093::2: icmp_seq=5 ttl=64 time=0.034 ms\n",
      "\n",
      "--- 2001:db8:4092:4093::2 ping statistics ---\n",
      "5 packets transmitted, 5 received, 0% packet loss, time 830ms\n",
      "rtt min/avg/max/mdev = 0.033/0.075/0.169/0.049 ms\n",
      "Script done, file is /dev/null\n"
     ]
    }
   ],
   "source": [
    "service_id = '156a0c7e-d92e-4d1f-a451-ef97f5890d33'\n",
    "stdout, stderr = node.execute(f'cd {remote_directory_path} && script -c \"./scripts/test-l2vpn.sh {service_id}\" /dev/null')"
   ]
  },
  {
   "cell_type": "code",
   "execution_count": null,
   "metadata": {
    "editable": true,
    "slideshow": {
     "slide_type": ""
    },
    "tags": []
   },
   "outputs": [],
   "source": []
  },
  {
   "cell_type": "markdown",
   "metadata": {},
   "source": [
    "### Docker Hub Login (optional)\n",
    "Create personal access token -> https://docs.docker.com/security/for-developers/access-tokens/"
   ]
  },
  {
   "cell_type": "code",
   "execution_count": null,
   "metadata": {},
   "outputs": [],
   "source": [
    "# Docker Login - when necessary\n",
    "\n",
    "docker_access_token = '<DOCKER_PERSONAL_ACCESS_TOKEN>'\n",
    "docker_user_account = '<DOCKER_USER_ACCOUNT>'\n",
    "\n",
    "commands = list()\n",
    "#commands.append(f'echo {docker_access_token} | docker login --username {docker_user_account} --password-stdin')\n",
    "\n",
    "for command in commands:\n",
    "    print(f'Executing {command}')\n",
    "    stdout, stderr = node.execute(command)\n",
    "    \n",
    "print('Done')"
   ]
  },
  {
   "cell_type": "markdown",
   "metadata": {},
   "source": [
    "## Step 8: Delete the Slice\n",
    "\n",
    "Please delete your slice when you are done with your experiment."
   ]
  },
  {
   "cell_type": "code",
   "execution_count": null,
   "metadata": {
    "editable": true,
    "slideshow": {
     "slide_type": ""
    },
    "tags": []
   },
   "outputs": [],
   "source": [
    "try:\n",
    "    slice = fablib.get_slice(name=slice_name)\n",
    "    ###slice.delete()\n",
    "except Exception as e:\n",
    "    print(f\"Exception: {e}\")"
   ]
  },
  {
   "cell_type": "code",
   "execution_count": null,
   "metadata": {},
   "outputs": [],
   "source": []
  }
 ],
 "metadata": {
  "kernelspec": {
   "display_name": "Python 3 (ipykernel)",
   "language": "python",
   "name": "python3"
  },
  "language_info": {
   "codemirror_mode": {
    "name": "ipython",
    "version": 3
   },
   "file_extension": ".py",
   "mimetype": "text/x-python",
   "name": "python",
   "nbconvert_exporter": "python",
   "pygments_lexer": "ipython3",
   "version": "3.11.9"
  }
 },
 "nbformat": 4,
 "nbformat_minor": 4
}
